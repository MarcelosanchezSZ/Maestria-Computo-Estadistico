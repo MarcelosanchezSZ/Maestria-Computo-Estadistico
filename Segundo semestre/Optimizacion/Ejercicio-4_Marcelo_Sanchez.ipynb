{
 "cells": [
  {
   "cell_type": "markdown",
   "metadata": {},
   "source": [
    "# Implementación "
   ]
  },
  {
   "cell_type": "code",
   "execution_count": 2,
   "metadata": {},
   "outputs": [],
   "source": [
    "import numpy as np\n",
    "import pandas as pd\n",
    "from matplotlib import pyplot as plt\n",
    "from mpl_toolkits.mplot3d import Axes3D\n",
    "from mpl_toolkits import mplot3d\n",
    "from sklearn import linear_model\n",
    "from sklearn import datasets\n",
    "import seaborn as sns"
   ]
  },
  {
   "cell_type": "markdown",
   "metadata": {},
   "source": [
    "Para poder correr la implementación se debe proporcionar los datos en forma de lista."
   ]
  },
  {
   "cell_type": "code",
   "execution_count": 3,
   "metadata": {},
   "outputs": [],
   "source": [
    "def actualiza_1(dt,lamda): # con esta función lo que hacemos es actualizar el valor de cada coeficiente\n",
    "# en este caso se tendra que mandar a llamar tantas veces sea necesario, es decir, el tamaño\n",
    "# del vector de coeficientes.\n",
    "    if dt < - lamda:\n",
    "        return (dt + lamda)\n",
    "    elif dt >  lamda:\n",
    "        return (dt - lamda)\n",
    "    else: \n",
    "        return 0\n",
    "\n",
    "\n",
    "def Kobe_l1(theta,X,y,lamda = .01, num_ite=100, beta_0 = False):\n",
    "    m,colum = X.shape #definimos el tamaño que nos proporciona la matriz X \n",
    "    X = X/(np.linalg.norm(X,axis = 0)) #Normalizamos nuestros datos, ya que pueden tener distintas\n",
    "    # magnitudes\n",
    "    for i in range(num_ite): # proporcionamos un número de iteraciones, en este caso son 100\n",
    "        for j in range(colum): # vamos recorriendo las columnas para ir actualizando los valores de la\n",
    "        # matriz de coeficientes \n",
    "            \n",
    "            #Vectorized implementation\n",
    "            X_j = X[:,j].reshape(-1,1)\n",
    "            y_pred = X.dot(theta) ## realizamos la prediccion, donde se va a actualizar \n",
    "            # en cada iteración \n",
    "            dt = (X_j.T).dot(y - y_pred  + theta[j]*X_j) # Realizamos la actualización \n",
    "            # del valor dt, en este caso se actualiza por columna ya que de esa forma actualiza \n",
    "            # el coeficiente correspondiente a cada columna \n",
    "        \n",
    "            # si estamos tomando en cuenta el intercepto, es decir, el beta cero \n",
    "            if beta_0 == True:  \n",
    "                if j == 0: \n",
    "                    theta[j] =  dt # para el caso donde hay intercepto\n",
    "                else:\n",
    "                    theta[j] =  actualiza_1(dt, lamda)  # para todos los demas coeficientes los\n",
    "                    # vamos poco a poco actualizando\n",
    "\n",
    "            if beta_0 == False: # en este caso no se toma encuenta el intercepto y solo se \n",
    "            # recorre la columnas\n",
    "                theta[j] =  actualiza_1(dt, lamda)   \n",
    "            \n",
    "    return theta.flatten() # finalmente regresamos lo valores de los coeficientes"
   ]
  },
  {
   "cell_type": "markdown",
   "metadata": {},
   "source": [
    "Proporcionamos los valores iniciales como el número de iteraciones, el valor de lambda, los datos que vamos a trabajar y el vector de coeficientes."
   ]
  },
  {
   "cell_type": "code",
   "execution_count": 4,
   "metadata": {},
   "outputs": [],
   "source": [
    "diabetes = datasets.load_diabetes()\n",
    "X = diabetes.data\n",
    "y = diabetes.target.reshape(-1,1)"
   ]
  },
  {
   "cell_type": "markdown",
   "metadata": {},
   "source": [
    "Mostramos los valores de los coeficientes que nos resultaron, en este caso como tenemos datos en alta dimensión no es muy sencillo observar la recta por lo que solo vamos a mostrar los resultados."
   ]
  },
  {
   "cell_type": "code",
   "execution_count": 5,
   "metadata": {},
   "outputs": [
    {
     "data": {
      "text/html": [
       "<div>\n",
       "<style scoped>\n",
       "    .dataframe tbody tr th:only-of-type {\n",
       "        vertical-align: middle;\n",
       "    }\n",
       "\n",
       "    .dataframe tbody tr th {\n",
       "        vertical-align: top;\n",
       "    }\n",
       "\n",
       "    .dataframe thead th {\n",
       "        text-align: right;\n",
       "    }\n",
       "</style>\n",
       "<table border=\"1\" class=\"dataframe\">\n",
       "  <thead>\n",
       "    <tr style=\"text-align: right;\">\n",
       "      <th></th>\n",
       "      <th>0</th>\n",
       "    </tr>\n",
       "  </thead>\n",
       "  <tbody>\n",
       "    <tr>\n",
       "      <th>0</th>\n",
       "      <td>0.000000</td>\n",
       "    </tr>\n",
       "    <tr>\n",
       "      <th>1</th>\n",
       "      <td>-217.285212</td>\n",
       "    </tr>\n",
       "    <tr>\n",
       "      <th>2</th>\n",
       "      <td>525.444606</td>\n",
       "    </tr>\n",
       "    <tr>\n",
       "      <th>3</th>\n",
       "      <td>309.016786</td>\n",
       "    </tr>\n",
       "    <tr>\n",
       "      <th>4</th>\n",
       "      <td>-166.680027</td>\n",
       "    </tr>\n",
       "    <tr>\n",
       "      <th>5</th>\n",
       "      <td>0.000000</td>\n",
       "    </tr>\n",
       "    <tr>\n",
       "      <th>6</th>\n",
       "      <td>-174.757087</td>\n",
       "    </tr>\n",
       "    <tr>\n",
       "      <th>7</th>\n",
       "      <td>73.182395</td>\n",
       "    </tr>\n",
       "    <tr>\n",
       "      <th>8</th>\n",
       "      <td>525.186740</td>\n",
       "    </tr>\n",
       "    <tr>\n",
       "      <th>9</th>\n",
       "      <td>61.456642</td>\n",
       "    </tr>\n",
       "  </tbody>\n",
       "</table>\n",
       "</div>"
      ],
      "text/plain": [
       "            0\n",
       "0    0.000000\n",
       "1 -217.285212\n",
       "2  525.444606\n",
       "3  309.016786\n",
       "4 -166.680027\n",
       "5    0.000000\n",
       "6 -174.757087\n",
       "7   73.182395\n",
       "8  525.186740\n",
       "9   61.456642"
      ]
     },
     "execution_count": 5,
     "metadata": {},
     "output_type": "execute_result"
    }
   ],
   "source": [
    "m,n = X.shape\n",
    "matriz_w = np.ones((n,1))\n",
    "theta = Kobe_l1(matriz_w,X,y,lamda = 10, num_ite=100)\n",
    "m = pd.DataFrame(theta)\n",
    "m"
   ]
  },
  {
   "cell_type": "code",
   "execution_count": null,
   "metadata": {},
   "outputs": [],
   "source": []
  }
 ],
 "metadata": {
  "kernelspec": {
   "display_name": "Python 3",
   "language": "python",
   "name": "python3"
  },
  "language_info": {
   "codemirror_mode": {
    "name": "ipython",
    "version": 3
   },
   "file_extension": ".py",
   "mimetype": "text/x-python",
   "name": "python",
   "nbconvert_exporter": "python",
   "pygments_lexer": "ipython3",
   "version": "3.8.5"
  }
 },
 "nbformat": 4,
 "nbformat_minor": 4
}
