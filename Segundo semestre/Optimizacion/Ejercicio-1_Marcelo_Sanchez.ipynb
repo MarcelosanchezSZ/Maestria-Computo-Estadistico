{
 "cells": [
  {
   "cell_type": "markdown",
   "metadata": {},
   "source": [
    "# Tarea 2 - No lineal"
   ]
  },
  {
   "cell_type": "code",
   "execution_count": 5,
   "metadata": {},
   "outputs": [],
   "source": [
    "import numpy as np\n",
    "from math import pi, cos, sin\n",
    "##funcion del gradiente\n",
    "def Gradiente1(x):\n",
    "    #return np.array([3*x[0]-x[1]-2 , x[1]-x[0]])\n",
    "    return np.array( [10*(-4*x[1]*x[0] + 4*x[0]**3) + 2*(1 + x[0]) , 10*(2*x[1] - 2*x[0]**2)] )  ## 1\n",
    "    #return np.array([ 2*x[0]+20*pi*sin(2*pi*x[0]) , 2*x[1]+20*pi*sin(2*pi*x[1]) , 2*x[2]+20*pi*sin(2*pi*x[2]) ])  ### 2\n",
    "    #return np.array([ 2*(x[0] + 2*x[1] -7) + 4*(2*x[0]+x[1]-5) , 4*(x[0]+2*x[1]-7) + 2*(2*x[0] + x[1] -5) ]) ## 3\n",
    "    #return np.array([ 0.5*x[0] - 0.5*x[1] , 0.5*x[1] - 0.5*x[0] ]) ## 4\n",
    "    #return np.array([ 3*x[0] - x[1] -2, x[1] - x[0] ])### prueba\n",
    "\n",
    "def Gradiente2(x):\n",
    "    #return np.array([ 2*x[0]+20*pi*sin(2*pi*x[0]) , 2*x[1]+20*pi*sin(2*pi*x[1]) , 2*x[2]+20*pi*sin(2*pi*x[2]) ])  ### 2\n",
    "    return np.array([ 2*x[0]+20*pi*sin(2*pi*x[0]) , 2*x[1]+20*pi*sin(2*pi*x[1]) ])  ### 2\n",
    "\n",
    "def Gradiente3(x):\n",
    "    return np.array([ 2*(x[0] + 2*x[1] -7) + 4*(2*x[0]+x[1]-5) , 4*(x[0]+2*x[1]-7) + 2*(2*x[0] + x[1] -5) ]) ## 3\n",
    "    \n",
    "def Gradiente4(x):\n",
    "    return np.array([ 0.5*x[0] - 0.5*x[1] , 0.5*x[1] - 0.5*x[0] ]) ## 4\n",
    "\n",
    "\n",
    "def Hessiana1(x):\n",
    "    #return np.array([ [3,-1] , [-1,1] ])### experimento\n",
    "    return np.array([ [-40*x[1] + 120*x[0]**2 +2, -40*x[0] ],[-40*x[0], 20] ]) # 1\n",
    "    #return np.array([[2 + 40*pi**2*cos(2*pi*x[0]), 0, 0],[0 ,2 + 40*pi**2*cos(2*pi*x[1]), 0],[0, 0, 2 + 40*pi**2*cos(2*pi*x[2])]])\n",
    "    #return np.array([ [10,8] , [8,10] ])#3\n",
    "    #return np.array([ [0.5,-0.5] , [-0.5,0.5] ])#4\n",
    "\n",
    "    \n",
    "def Hessiana2(x):\n",
    "    #return np.array([[2 + 40*pi**2*cos(2*pi*x[0]), 0, 0],[0 ,2 + 40*pi**2*cos(2*pi*x[1]), 0],[0, 0, 2 + 40*pi**2*cos(2*pi*x[2])]])\n",
    "    return np.array([[2 + 40*pi**2*cos(2*pi*x[0]), 0],[0 ,2 + 40*pi**2*cos(2*pi*x[1])]  ])\n",
    " \n",
    "def Hessiana3(x):\n",
    "    return np.array([ [10,8] , [8,10] ])#3\n",
    "\n",
    "def Hessiana4(x):\n",
    "    return np.array([ [0.5,-0.5] , [-0.5,0.5] ])#4\n",
    "    \n",
    "class Solvers():\n",
    "    def __init__(self, obj_function, gradient, hessiana, solver='gd',\n",
    "             alpha = 0.01, tol = 1e-3,max_iter=10):\n",
    "        self.obj_function = obj_function\n",
    "        self.gradient = gradient\n",
    "        ##\n",
    "        self.hessiana = hessiana\n",
    "        ##\n",
    "        self.alpha = alpha\n",
    "        self.tol = tol\n",
    "        self.max_iter = max_iter\n",
    "        ## le hizo falta agregar esto al profesor\n",
    "        self.solver=solver\n",
    "        ##\n",
    "        \n",
    "    def __gd_solver(self, start_point):\n",
    "        grad_ = self.gradient(start_point)\n",
    "        convergence = np.dot(grad_,grad_)\n",
    "        stop = (convergence < self.tol)\n",
    "        iter_ = 0\n",
    "        point = start_point\n",
    "        while not stop:\n",
    "            ###### \n",
    "            print(\"El {} valor es: {}\".format(iter_,point))\n",
    "            iter_+=1 #Tambien le hizo falta esta parte al profesor\n",
    "            ###### \n",
    "            point = point - self.alpha*grad_\n",
    "            grad_ = self.gradient(point)\n",
    "            stop = ((np.dot(grad_,grad_)) < self.tol) or\\\n",
    "                (iter_ > self.max_iter)\n",
    "        return point\n",
    "    \n",
    "    #### metodo de newton\n",
    "    def __mn_solver(self, start_point):\n",
    "        grad_ = self.gradient(start_point)\n",
    "        convergence = np.dot(grad_,grad_)\n",
    "        stop = (convergence < self.tol)\n",
    "        iter_ = 0\n",
    "        point = start_point\n",
    "        hess_ = self.hessiana(start_point)\n",
    "        while not stop:\n",
    "            ###### \n",
    "            print(\"El {} valor es: {}\".format(iter_,point))\n",
    "            iter_+=1 #Tambien le hizo falta esta parte al profesor\n",
    "            ###### \n",
    "            hess1 = np.linalg.inv(hess_)\n",
    "            point = point - np.dot(hess1,grad_)\n",
    "            grad_ = self.gradient(point)\n",
    "            hess_ = self.hessiana(point)\n",
    "            stop = ((np.dot(grad_,grad_)) < self.tol) or\\\n",
    "                (iter_ > self.max_iter)\n",
    "        print(\"El {} valor es: {}\".format(iter_,point))\n",
    "        return point\n",
    "            \n",
    "    def solve(self, start_point):\n",
    "        if self.solver=='gd':\n",
    "            return self.__gd_solver(start_point)\n",
    "        elif self.solver=='mn':\n",
    "            return self.__mn_solver(start_point)\n",
    "        else:\n",
    "            raise ValueError('Undefined solver')"
   ]
  },
  {
   "cell_type": "markdown",
   "metadata": {},
   "source": [
    "Primer ejercicio de la tarea Gradiente Descendiente"
   ]
  },
  {
   "cell_type": "code",
   "execution_count": 6,
   "metadata": {},
   "outputs": [
    {
     "name": "stdout",
     "output_type": "stream",
     "text": [
      "El 0 valor es: [0, 0]\n",
      "El 1 valor es: [-0.02  0.  ]\n",
      "El 2 valor es: [-3.95968e-02  8.00000e-05]\n",
      "El 3 valor es: [-0.0587813   0.00037758]\n",
      "El 4 valor es: [-0.07753331  0.00099311]\n",
      "El 5 valor es: [-0.09582701  0.00199677]\n",
      "El 6 valor es: [-0.11363502  0.00343398]\n",
      "El 7 valor es: [-0.13093146  0.00532977]\n",
      "El 8 valor es: [-0.14769414  0.00769242]\n",
      "El 9 valor es: [-0.16390602  0.01051665]\n",
      "El 10 valor es: [-0.17955605  0.01378636]\n"
     ]
    },
    {
     "data": {
      "text/plain": [
       "array([-0.19463951,  0.01747716])"
      ]
     },
     "execution_count": 6,
     "metadata": {},
     "output_type": "execute_result"
    }
   ],
   "source": [
    "## ejercicio 1\n",
    "x=[0,0]\n",
    "f = 10*(x[1] - x[0]**2)**2 + (1 - x[0])**2\n",
    "p_1=Solvers(f,Gradiente1,Hessiana1,solver='gd')\n",
    "p_1.solve(x)"
   ]
  },
  {
   "cell_type": "code",
   "execution_count": 16,
   "metadata": {},
   "outputs": [
    {
     "name": "stdout",
     "output_type": "stream",
     "text": [
      "El 0 valor es: [0, 0]\n",
      "El 1 valor es: [0.34 0.38]\n",
      "El 2 valor es: [0.6156 0.6948]\n",
      "El 3 valor es: [0.838456 0.956072]\n",
      "El 4 valor es: [1.01812464 1.17338832]\n",
      "El 5 valor es: [1.16244111 1.35459952]\n",
      "El 6 valor es: [1.27782904 1.50614428]\n",
      "El 7 valor es: [1.36955459 1.63330353]\n",
      "El 8 valor es: [1.44193485 1.74040881]\n",
      "El 9 valor es: [1.49850866 1.83101314]\n",
      "El 10 valor es: [1.54217674 1.90803113]\n"
     ]
    },
    {
     "data": {
      "text/plain": [
       "array([1.57531658, 1.97385388])"
      ]
     },
     "execution_count": 16,
     "metadata": {},
     "output_type": "execute_result"
    }
   ],
   "source": [
    "# ejercicio 3 \n",
    "x=[0,0]\n",
    "f = (x[0] + 2*x[1] -7)**2 + (2*x[0] + x[1] - 5)**2\n",
    "p_1=Solvers(f,Gradiente3,Hessiana3,solver='gd')\n",
    "p_1.solve(x)"
   ]
  },
  {
   "cell_type": "code",
   "execution_count": 5,
   "metadata": {},
   "outputs": [
    {
     "data": {
      "text/plain": [
       "[0, 0]"
      ]
     },
     "execution_count": 5,
     "metadata": {},
     "output_type": "execute_result"
    }
   ],
   "source": [
    "# ejercicio 4\n",
    "x=[0,0]\n",
    "f = 0.25*(x[0]**2 + x[1]**2) - 0.5*(x[0]*x[1])\n",
    "p_1=Solvers(f,Gradiente4,Hessiana4,solver='gd')\n",
    "p_1.solve(x)"
   ]
  },
  {
   "cell_type": "code",
   "execution_count": 6,
   "metadata": {},
   "outputs": [
    {
     "data": {
      "text/plain": [
       "[0, 0]"
      ]
     },
     "execution_count": 6,
     "metadata": {},
     "output_type": "execute_result"
    }
   ],
   "source": [
    "# ejercicio 2\n",
    "x=[0,0]\n",
    "f = 30 + (x[0]**2 - 10*cos(2*pi*x[0])) + (x[1]**2 - 10*cos(2*pi*x[1])) \n",
    "p_1=Solvers(f,Gradiente2,Hessiana2,solver='gd')\n",
    "p_1.solve(x)"
   ]
  },
  {
   "cell_type": "markdown",
   "metadata": {},
   "source": [
    "## Método de newton"
   ]
  },
  {
   "cell_type": "code",
   "execution_count": 17,
   "metadata": {},
   "outputs": [
    {
     "name": "stdout",
     "output_type": "stream",
     "text": [
      "El 0 valor es: [0, 0]\n",
      "El 1 valor es: [-1.  0.]\n",
      "El 2 valor es: [-1.  1.]\n"
     ]
    },
    {
     "data": {
      "text/plain": [
       "array([-1.,  1.])"
      ]
     },
     "execution_count": 17,
     "metadata": {},
     "output_type": "execute_result"
    }
   ],
   "source": [
    "## ejercicio 1 \n",
    "x=[0,0]\n",
    "f = 10*(x[1] - x[0]**2)**2 + (1 - x[0])**2\n",
    "p_1=Solvers(f,Gradiente1,Hessiana1,solver='mn')\n",
    "p_1.solve(x)"
   ]
  },
  {
   "cell_type": "code",
   "execution_count": 18,
   "metadata": {},
   "outputs": [
    {
     "name": "stdout",
     "output_type": "stream",
     "text": [
      "El 0 valor es: [0, 0]\n"
     ]
    },
    {
     "data": {
      "text/plain": [
       "[0, 0]"
      ]
     },
     "execution_count": 18,
     "metadata": {},
     "output_type": "execute_result"
    }
   ],
   "source": [
    "# Ejercicio 2 - metodo de newton\n",
    "x=[0,0]\n",
    "f = 30 + (x[0]**2 - 10*cos(2*pi*x[0])) + (x[1]**2 - 10*cos(2*pi*x[1]))\n",
    "p_1=Solvers(f,Gradiente2,Hessiana2,solver='mn')\n",
    "p_1.solve(x)"
   ]
  },
  {
   "cell_type": "code",
   "execution_count": 19,
   "metadata": {},
   "outputs": [
    {
     "name": "stdout",
     "output_type": "stream",
     "text": [
      "El 0 valor es: [0, 0]\n",
      "El 1 valor es: [1. 3.]\n"
     ]
    },
    {
     "data": {
      "text/plain": [
       "array([1., 3.])"
      ]
     },
     "execution_count": 19,
     "metadata": {},
     "output_type": "execute_result"
    }
   ],
   "source": [
    "# Ejercicio 3 - metodo de newton\n",
    "x=[0,0]\n",
    "f = (x[0] + 2*x[1] -7)**2 + (2*x[0] + x[1] - 5)**2\n",
    "p_1=Solvers(f,Gradiente3,Hessiana3,solver='mn')\n",
    "p_1.solve(x)"
   ]
  },
  {
   "cell_type": "code",
   "execution_count": 20,
   "metadata": {},
   "outputs": [
    {
     "name": "stdout",
     "output_type": "stream",
     "text": [
      "El 0 valor es: [0, 0]\n"
     ]
    },
    {
     "data": {
      "text/plain": [
       "[0, 0]"
      ]
     },
     "execution_count": 20,
     "metadata": {},
     "output_type": "execute_result"
    }
   ],
   "source": [
    "# Ejercicio 4 - metodo de newton\n",
    "x=[0,0]\n",
    "f = 0.25*(x[0]**2 + x[1]**2) - 0.5*(x[0]*x[1])\n",
    "p_1=Solvers(f,Gradiente4,Hessiana4,solver='mn')\n",
    "p_1.solve(x)"
   ]
  },
  {
   "cell_type": "markdown",
   "metadata": {},
   "source": [
    "## Gradiente descendente con diferencias finitas"
   ]
  },
  {
   "cell_type": "code",
   "execution_count": 7,
   "metadata": {},
   "outputs": [],
   "source": [
    "import numpy as np\n",
    "from math import pi, cos, sin\n",
    "def Gradiente1(x):\n",
    "    h = 0.05\n",
    "    xa = [x[0]+h,x[1]]\n",
    "    #x = [x[0]+h,x[1],x[2]]## 2\n",
    "    m1 = 10*(xa[1] - xa[0]**2)**2 + (1 - xa[0])**2##1\n",
    "    #m1 = 30 + (x[0]**2 - 10*cos(2*pi*x[0])) + (x[1]**2 - 10*cos(2*pi*x[1])) + (x[2]**2 - 10*cos(2*pi*x[2]))## 2\n",
    "    #m1 = (x[0] + 2*x[1] -7)**2 + (2*x[0] + x[1] - 5)**2 ## 3\n",
    "    #m1 = 0.25*(x[0]**2 + x[1]**2) - 0.5*(x[0]*x[1]) ## 4\n",
    "    \n",
    "    xa = [x[0]-h,x[1]]\n",
    "    #x = [x[0]-h,x[1],x[2]]##2\n",
    "    m2 = 10*(xa[1] - xa[0]**2)**2 + (1 - xa[0])**2##1\n",
    "    #m2 = 30 + (x[0]**2 - 10*cos(2*pi*x[0])) + (x[1]**2 - 10*cos(2*pi*x[1])) + (x[2]**2 - 10*cos(2*pi*x[2]))##2\n",
    "    #m2 = (x[0] + 2*x[1] -7)**2 + (2*x[0] + x[1] - 5)**2 ## 3\n",
    "    #m2 = 0.25*(x[0]**2 + x[1]**2) - 0.5*(x[0]*x[1])##4\n",
    "    f1 = (m1-m2)/(2*h)\n",
    "    \n",
    "    xa = [x[0],x[1]+h]\n",
    "    #x = [x[0],x[1]+h,x[2]]##2\n",
    "    p1 = 10*(xa[1] - xa[0]**2)**2 + (1 - xa[0])**2##1\n",
    "    #p1 = 30 + (x[0]**2 - 10*cos(2*pi*x[0])) + (x[1]**2 - 10*cos(2*pi*x[1])) + (x[2]**2 - 10*cos(2*pi*x[2]))##2\n",
    "    #p1 = (x[0] + 2*x[1] -7)**2 + (2*x[0] + x[1] - 5)**2 ## 3\n",
    "    #p1 = 0.25*(x[0]**2 + x[1]**2) - 0.5*(x[0]*x[1])## 4\n",
    "    \n",
    "    xa = [x[0],x[1]-h]\n",
    "    #x = [x[0],x[1]-h,x[2]]##2\n",
    "    p2 = 10*(xa[1] - xa[0]**2)**2 + (1 - xa[0])**2##1\n",
    "    #p2 = 30 + (x[0]**2 - 10*cos(2*pi*x[0])) + (x[1]**2 - 10*cos(2*pi*x[1])) + (x[2]**2 - 10*cos(2*pi*x[2]))##2\n",
    "    #p2 = (x[0] + 2*x[1] -7)**2 + (2*x[0] + x[1] - 5)**2 ## 3\n",
    "    #p2 = 0.25*(x[0]**2 + x[1]**2) - 0.5*(x[0]*x[1]) ## 4\n",
    "    f2 = (p1-p2)/(2*h)\n",
    "    \n",
    "    #x = [x[0],x[1],x[2]+h]##2\n",
    "    #s1 = 30 + (x[0]**2 - 10*cos(2*pi*x[0])) + (x[1]**2 - 10*cos(2*pi*x[1])) + (x[2]**2 - 10*cos(2*pi*x[2]))##2\n",
    "    #x = [x[0],x[1],x[2]-h]##2\n",
    "    #s2 = 30 + (x[0]**2 - 10*cos(2*pi*x[0])) + (x[1]**2 - 10*cos(2*pi*x[1])) + (x[2]**2 - 10*cos(2*pi*x[2]))##2\n",
    "    #f3 = (s1-s2)/(2*h)##2\n",
    "    \n",
    "    return np.array([f1,f2])\n",
    "    #return np.array([f1,f2,f2]) ## 2\n",
    "\n",
    "def Gradiente2(x):\n",
    "    h = 0.05\n",
    "    xa = [x[0]+h,x[1],x[2]]## 2\n",
    "    m1 = 30 + (xa[0]**2 - 10*cos(2*pi*xa[0])) + (xa[1]**2 - 10*cos(2*pi*xa[1])) + (xa[2]**2 - 10*cos(2*pi*xa[2]))## 2\n",
    "    xa = [x[0]-h,x[1],x[2]]##2\n",
    "    m2 = 30 + (xa[0]**2 - 10*cos(2*pi*xa[0])) + (xa[1]**2 - 10*cos(2*pi*xa[1])) + (xa[2]**2 - 10*cos(2*pi*xa[2]))##2\n",
    "    f1 = (m1-m2)/(2*h)\n",
    "    \n",
    "    xa = [x[0],x[1]+h,x[2]]##2\n",
    "    p1 = 30 + (xa[0]**2 - 10*cos(2*pi*xa[0])) + (xa[1]**2 - 10*cos(2*pi*xa[1])) + (xa[2]**2 - 10*cos(2*pi*xa[2]))##2\n",
    "    xa = [x[0],x[1]-h,x[2]]##2\n",
    "    p2 = 30 + (xa[0]**2 - 10*cos(2*pi*xa[0])) + (xa[1]**2 - 10*cos(2*pi*xa[1])) + (xa[2]**2 - 10*cos(2*pi*xa[2]))##2\n",
    "    f2 = (p1-p2)/(2*h)\n",
    "    \n",
    "    xa = [x[0],x[1],x[2]+h]##2\n",
    "    s1 = 30 + (xa[0]**2 - 10*cos(2*pi*xa[0])) + (xa[1]**2 - 10*cos(2*pi*xa[1])) + (xa[2]**2 - 10*cos(2*pi*xa[2]))##2\n",
    "    xa = [x[0],x[1],x[2]-h]##2\n",
    "    s2 = 30 + (xa[0]**2 - 10*cos(2*pi*xa[0])) + (xa[1]**2 - 10*cos(2*pi*xa[1])) + (xa[2]**2 - 10*cos(2*pi*xa[2]))##2\n",
    "    f3 = (s1-s2)/(2*h)##2\n",
    "    return np.array([f1,f2,f2]) ## 2    \n",
    "    \n",
    "    \n",
    "def Gradiente4(x):\n",
    "    h = 0.05\n",
    "    xa = [x[0]+h,x[1]]\n",
    "    m1 = 0.25*(xa[0]**2 + xa[1]**2) - 0.5*(xa[0]*xa[1]) ## 4\n",
    "    \n",
    "    xa = [x[0]-h,x[1]]\n",
    "    m2 = 0.25*(xa[0]**2 + xa[1]**2) - 0.5*(xa[0]*xa[1])##4\n",
    "    f1 = (m1-m2)/(2*h)\n",
    "    \n",
    "    xa = [x[0],x[1]+h]\n",
    "    p1 = 0.25*(xa[0]**2 + xa[1]**2) - 0.5*(xa[0]*xa[1])## 4\n",
    "    \n",
    "    xa = [x[0],x[1]-h]\n",
    "    p2 = 0.25*(xa[0]**2 + xa[1]**2) - 0.5*(xa[0]*xa[1]) ## 4\n",
    "    f2 = (p1-p2)/(2*h)\n",
    "    return np.array([f1,f2])\n",
    "\n",
    "def Gradiente3(x):\n",
    "    h = 0.05\n",
    "    xa = [x[0]+h,x[1]]\n",
    "    m1 = (xa[0] + 2*xa[1] -7)**2 + (2*xa[0] + xa[1] - 5)**2 ## 3  \n",
    "    xa = [x[0]-h,x[1]]\n",
    "    m2 = (xa[0] + 2*xa[1] -7)**2 + (2*xa[0] + xa[1] - 5)**2 ## 3\n",
    "    f1 = (m1-m2)/(2*h)\n",
    "    xa = [x[0],x[1]+h]\n",
    "    p1 = (xa[0] + 2*xa[1] -7)**2 + (2*xa[0] + xa[1] - 5)**2 ## 3\n",
    "    xa = [x[0],x[1]-h]\n",
    "    p2 = (xa[0] + 2*xa[1] -7)**2 + (2*xa[0] + xa[1] - 5)**2 ## 3\n",
    "    f2 = (p1-p2)/(2*h)\n",
    "    return np.array([f1,f2])  \n",
    "    \n",
    "def Hessiana2(x):\n",
    "    return np.array([[2 + 40*pi**2*cos(2*pi*x[0]), 0, 0],[0 ,2 + 40*pi**2*cos(2*pi*x[1]), 0],[0, 0, 2 + 40*pi**2*cos(2*pi*x[2])]])\n",
    "\n",
    "def Hessiana1(x):\n",
    "    #return np.array([ [3,-1] , [-1,1] ])### experimento\n",
    "    return np.array([ [-40*x[1] + 120*x[0]**2 +2, -40*x[0] ],[-40*x[0], 20] ]) # 1\n",
    "    #return np.array([[2 + 40*pi**2*cos(2*pi*x[0]), 0, 0],[0 ,2 + 40*pi**2*cos(2*pi*x[1]), 0],[0, 0, 2 + 40*pi**2*cos(2*pi*x[2])]])\n",
    "    #return np.array([ [10,8] , [8,10] ])#3\n",
    "    #return np.array([ [0.5,-0.5] , [-0.5,0.5] ])#4\n",
    "    \n",
    "def Hessiana3(x):\n",
    "    return np.array([ [10,8] , [8,10] ])#3\n",
    "\n",
    "def Hessiana4(x):\n",
    "    return np.array([ [0.5,-0.5] , [-0.5,0.5] ])#4\n",
    "    \n",
    "    \n",
    "class Solvers():\n",
    "    def __init__(self, obj_function, gradient, hessiana, solver='gd',\n",
    "             alpha = 0.01, tol = 1e-3,max_iter=10):\n",
    "        self.obj_function = obj_function\n",
    "        self.gradient = gradient\n",
    "        ##\n",
    "        self.hessiana = hessiana\n",
    "        ##\n",
    "        self.alpha = alpha\n",
    "        self.tol = tol\n",
    "        self.max_iter = max_iter\n",
    "        ## le hizo falta agregar esto al profesor\n",
    "        self.solver=solver\n",
    "        ##\n",
    "        \n",
    "    def __gd_solver(self, start_point):\n",
    "        grad_ = self.gradient(start_point)\n",
    "        convergence = np.dot(grad_,grad_)\n",
    "        stop = (convergence < self.tol)\n",
    "        iter_ = 0\n",
    "        point = start_point\n",
    "        while not stop:\n",
    "            ###### \n",
    "            print(\"El {} valor, es: {}\".format(iter_,point))\n",
    "            iter_+=1 #Tambien le hizo falta esta parte al profesor\n",
    "            ###### \n",
    "            point = point - self.alpha*grad_\n",
    "            grad_ = self.gradient(point)\n",
    "            stop = ((np.dot(grad_,grad_)) < self.tol) or\\\n",
    "                (iter_ > self.max_iter)\n",
    "        return point\n",
    "    \n",
    "    #### metodo de newton\n",
    "    def __mn_solver(self, start_point):\n",
    "        grad_ = self.gradient(start_point)\n",
    "        convergence = np.dot(grad_,grad_)\n",
    "        stop = (convergence < self.tol)\n",
    "        iter_ = 0\n",
    "        point = start_point\n",
    "        hess_ = self.hessiana(start_point)\n",
    "        while not stop:\n",
    "            ###### \n",
    "            #print(\"El {} valor es: {}\".format(iter_,point))\n",
    "            iter_+=1 #Tambien le hizo falta esta parte al profesor\n",
    "            ###### \n",
    "            hess1 = np.linalg.inv(hess_)\n",
    "            point = point - np.dot(hess1,grad_)\n",
    "            grad_ = self.gradient(point)\n",
    "            hess_ = self.hessiana(start_point)\n",
    "            stop = ((np.dot(grad_,grad_)) < self.tol) or\\\n",
    "                (iter_ > self.max_iter)\n",
    "        print(\"El {} valor es: {}\".format(iter_,point))\n",
    "        return point\n",
    "            \n",
    "    def solve(self, start_point):\n",
    "        if self.solver=='gd':\n",
    "            return self.__gd_solver(start_point)\n",
    "        elif self.solver=='mn':\n",
    "            return self.__mn_solver(start_point)\n",
    "        else:\n",
    "            raise ValueError('Undefined solver')"
   ]
  },
  {
   "cell_type": "code",
   "execution_count": 2,
   "metadata": {},
   "outputs": [
    {
     "name": "stdout",
     "output_type": "stream",
     "text": [
      "El 0 valor, es: [0, 0]\n",
      "El 1 valor, es: [0.02 0.  ]\n",
      "El 2 valor, es: [3.95768e-02 8.00000e-05]\n",
      "El 3 valor, es: [0.05872216 0.00037726]\n",
      "El 4 valor, es: [0.07741686 0.00099147]\n",
      "El 5 valor, es: [0.09563621 0.00199185]\n",
      "El 6 valor, es: [0.11335416 0.00342274]\n",
      "El 7 valor, es: [0.13054631 0.00530802]\n",
      "El 8 valor, es: [0.14719209 0.00765489]\n",
      "El 9 valor, es: [0.16327616 0.01045701]\n",
      "El 10 valor, es: [0.17878919 0.01369743]\n"
     ]
    },
    {
     "data": {
      "text/plain": [
       "array([0.19372816, 0.01735106])"
      ]
     },
     "execution_count": 2,
     "metadata": {},
     "output_type": "execute_result"
    }
   ],
   "source": [
    "## ejercicio 1 \n",
    "x=[0,0]\n",
    "f = 10*(x[1] - x[0]**2)**2 + (1 - x[0])**2\n",
    "p_1=Solvers(f,Gradiente1,Hessiana1,solver='gd')\n",
    "p_1.solve(x)"
   ]
  },
  {
   "cell_type": "code",
   "execution_count": 8,
   "metadata": {},
   "outputs": [
    {
     "data": {
      "text/plain": [
       "[0, 0, 0]"
      ]
     },
     "execution_count": 8,
     "metadata": {},
     "output_type": "execute_result"
    }
   ],
   "source": [
    "# ejercicio 2\n",
    "x=[0,0,0]\n",
    "f = 30 + (x[0]**2 - 10*cos(2*pi*x[0])) + (x[1]**2 - 10*cos(2*pi*x[1])) + (x[2]**2 - 10*cos(2*pi*x[2]))\n",
    "p_1=Solvers(f,Gradiente2,Hessiana2,solver='gd')\n",
    "p_1.solve(x)"
   ]
  },
  {
   "cell_type": "code",
   "execution_count": 9,
   "metadata": {},
   "outputs": [
    {
     "name": "stdout",
     "output_type": "stream",
     "text": [
      "El 0 valor, es: [0, 0]\n",
      "El 1 valor, es: [0.34 0.38]\n",
      "El 2 valor, es: [0.6156 0.6948]\n",
      "El 3 valor, es: [0.838456 0.956072]\n",
      "El 4 valor, es: [1.01812464 1.17338832]\n",
      "El 5 valor, es: [1.16244111 1.35459952]\n",
      "El 6 valor, es: [1.27782904 1.50614428]\n",
      "El 7 valor, es: [1.36955459 1.63330353]\n",
      "El 8 valor, es: [1.44193485 1.74040881]\n",
      "El 9 valor, es: [1.49850866 1.83101314]\n",
      "El 10 valor, es: [1.54217674 1.90803113]\n"
     ]
    },
    {
     "data": {
      "text/plain": [
       "array([1.57531658, 1.97385388])"
      ]
     },
     "execution_count": 9,
     "metadata": {},
     "output_type": "execute_result"
    }
   ],
   "source": [
    "# ejercicio 3\n",
    "x=[0,0]\n",
    "f = (x[0] + 2*x[1] -7)**2 + (2*x[0] + x[1] - 5)**2\n",
    "p_1=Solvers(f,Gradiente3,Hessiana3,solver='gd')\n",
    "p_1.solve(x)"
   ]
  },
  {
   "cell_type": "code",
   "execution_count": 10,
   "metadata": {},
   "outputs": [
    {
     "data": {
      "text/plain": [
       "[0, 0]"
      ]
     },
     "execution_count": 10,
     "metadata": {},
     "output_type": "execute_result"
    }
   ],
   "source": [
    "# ejercicio 4\n",
    "x=[0,0]\n",
    "f = 0.25*(x[0]**2 + x[1]**2) - 0.5*(x[0]*x[1])\n",
    "p_1=Solvers(f,Gradiente4,Hessiana4,solver='gd')\n",
    "p_1.solve(x)"
   ]
  },
  {
   "cell_type": "code",
   "execution_count": null,
   "metadata": {},
   "outputs": [],
   "source": []
  },
  {
   "cell_type": "code",
   "execution_count": null,
   "metadata": {},
   "outputs": [],
   "source": []
  },
  {
   "cell_type": "code",
   "execution_count": null,
   "metadata": {},
   "outputs": [],
   "source": []
  }
 ],
 "metadata": {
  "kernelspec": {
   "display_name": "Python 3",
   "language": "python",
   "name": "python3"
  },
  "language_info": {
   "codemirror_mode": {
    "name": "ipython",
    "version": 3
   },
   "file_extension": ".py",
   "mimetype": "text/x-python",
   "name": "python",
   "nbconvert_exporter": "python",
   "pygments_lexer": "ipython3",
   "version": "3.8.5"
  }
 },
 "nbformat": 4,
 "nbformat_minor": 4
}
