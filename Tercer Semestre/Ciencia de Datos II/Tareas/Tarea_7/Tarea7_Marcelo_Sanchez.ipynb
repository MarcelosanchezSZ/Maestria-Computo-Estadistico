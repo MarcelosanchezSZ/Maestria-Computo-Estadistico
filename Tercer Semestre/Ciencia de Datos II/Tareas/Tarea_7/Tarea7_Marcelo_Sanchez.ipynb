{
  "nbformat": 4,
  "nbformat_minor": 0,
  "metadata": {
    "colab": {
      "name": "Tarea_7final_final_de_fnales.ipynb",
      "provenance": [],
      "collapsed_sections": [],
      "machine_shape": "hm"
    },
    "kernelspec": {
      "display_name": "Python 3",
      "language": "python",
      "name": "python3"
    },
    "language_info": {
      "codemirror_mode": {
        "name": "ipython",
        "version": 3
      },
      "file_extension": ".py",
      "mimetype": "text/x-python",
      "name": "python",
      "nbconvert_exporter": "python",
      "pygments_lexer": "ipython3",
      "version": "3.8.5"
    },
    "latex_envs": {
      "LaTeX_envs_menu_present": true,
      "autoclose": false,
      "autocomplete": true,
      "bibliofile": "biblio.bib",
      "cite_by": "apalike",
      "current_citInitial": 1,
      "eqLabelWithNumbers": true,
      "eqNumInitial": 1,
      "hotkeys": {
        "equation": "Ctrl-E",
        "itemize": "Ctrl-I"
      },
      "labels_anchors": false,
      "latex_user_defs": false,
      "report_style_numbering": false,
      "user_envs_cfg": false
    },
    "toc": {
      "base_numbering": 1,
      "nav_menu": {},
      "number_sections": false,
      "sideBar": true,
      "skip_h1_title": false,
      "title_cell": "Table of Contents",
      "title_sidebar": "Contents",
      "toc_cell": false,
      "toc_position": {},
      "toc_section_display": true,
      "toc_window_display": false
    }
  },
  "cells": [
    {
      "cell_type": "markdown",
      "metadata": {
        "id": "IQkl-m4FgC0c"
      },
      "source": [
        "<center>Tópicos selectos de análisis de datos<center>\n",
        "<center>Tarea 7<center>\n",
        "<center>Para entregar el 29 de noviembre de 2021<center>"
      ]
    },
    {
      "cell_type": "markdown",
      "metadata": {
        "id": "f46yFbqogC0h"
      },
      "source": [
        "1. En el notebook `MT_attention.ipynb` se encuentra la implementación de un modelo de traducción automática NMT (Neural Machine Translation) basado en una arquitectura sequence to sequence con atención. El modelo que se implementa está basado en LSTM bidireccional para el encoder y LSTM simple para el decoder, y se muestra en la siguiente figura:"
      ]
    },
    {
      "cell_type": "code",
      "metadata": {
        "id": "kJ_orZd8ZZXI"
      },
      "source": [
        "from IPython.display import Image\n",
        "Image(retina=True, filename='model_nmt.png')"
      ],
      "execution_count": null,
      "outputs": []
    },
    {
      "cell_type": "markdown",
      "metadata": {
        "id": "PUYjXS-VgC0j"
      },
      "source": [
        "a) Basándote en ése modelo, obtén un modelo NMT para inglés-español y español-inglés. El corpus paralelo se obtuvo de ManyThings.org: http://www.manythings.org/anki/. Si deseas, puedes modificar el modelo, usando por ejemplo GRU en vez de LSTM."
      ]
    },
    {
      "cell_type": "code",
      "metadata": {
        "id": "S3MStipOhTmp",
        "colab": {
          "base_uri": "https://localhost:8080/"
        },
        "outputId": "80bd3b64-e498-4752-be40-c760649a1414"
      },
      "source": [
        "from google.colab import drive\n",
        "drive.mount('/content/drive')"
      ],
      "execution_count": null,
      "outputs": [
        {
          "output_type": "stream",
          "name": "stdout",
          "text": [
            "Mounted at /content/drive\n"
          ]
        }
      ]
    },
    {
      "cell_type": "code",
      "metadata": {
        "id": "bwZtphRmgoej"
      },
      "source": [
        "import pandas as pd\n",
        "import numpy as np\n",
        "import string\n",
        "from string import digits\n",
        "import matplotlib.pyplot as plt\n",
        "%matplotlib inline\n",
        "import tensorflow as tf\n",
        "import matplotlib.ticker as ticker\n",
        "from sklearn.model_selection import train_test_split\n",
        "import re\n",
        "import os\n",
        "import io\n",
        "import time"
      ],
      "execution_count": null,
      "outputs": []
    },
    {
      "cell_type": "code",
      "metadata": {
        "id": "2yU6yGpAorrs"
      },
      "source": [
        "data_path =  '/content/drive/MyDrive/Tarea7-CDII/spa.txt'\n",
        "df = pd.read_csv(data_path,encoding='utf-8', sep='\t',  names=['English', 'Spanish', 'Attribution'])\n",
        "# drop attribution\n",
        "df.drop(['Attribution'], axis=1, inplace=True)\n",
        "# remove multiple spaces\n",
        "df.English = df.English.apply(lambda x: \" \".join(x.split()))\n",
        "df.Spanish = df.Spanish.apply(lambda x: \" \".join(x.split()))\n",
        "# lowercase\n",
        "df.English = df.English.apply(lambda x: x.lower())\n",
        "df.Spanish = df.Spanish.apply(lambda x: x.lower())\n",
        "# remove punctuations\n",
        "#translator= str.maketrans('','', string.punctuation)\n",
        "#df.English= df.English.apply(lambda x: x.translate(translator))\n",
        "#df.Spanish= df.Spanish.apply(lambda x: x.translate(translator))\n",
        "# remove digits\n",
        "df.English= df.English.apply(lambda x: re.sub(r'[\\d]+','', x))\n",
        "df.Spanish= df.Spanish.apply(lambda x: re.sub(r'[\\d]+','', x))\n",
        "\n",
        "# Add start and end tokens to sentences\n",
        "df['Spanish'] =df.Spanish.apply(lambda x: '<start> '+ x + ' <end>')\n",
        "df['English'] =df.English.apply(lambda x: '<start> '+ x + ' <end>')"
      ],
      "execution_count": null,
      "outputs": []
    },
    {
      "cell_type": "code",
      "metadata": {
        "id": "IrQJwkqMp43B",
        "colab": {
          "base_uri": "https://localhost:8080/",
          "height": 363
        },
        "outputId": "b291ca8e-ba17-48a8-e1c7-af753066f229"
      },
      "source": [
        "df.sample(10)"
      ],
      "execution_count": null,
      "outputs": [
        {
          "output_type": "execute_result",
          "data": {
            "text/html": [
              "<div>\n",
              "<style scoped>\n",
              "    .dataframe tbody tr th:only-of-type {\n",
              "        vertical-align: middle;\n",
              "    }\n",
              "\n",
              "    .dataframe tbody tr th {\n",
              "        vertical-align: top;\n",
              "    }\n",
              "\n",
              "    .dataframe thead th {\n",
              "        text-align: right;\n",
              "    }\n",
              "</style>\n",
              "<table border=\"1\" class=\"dataframe\">\n",
              "  <thead>\n",
              "    <tr style=\"text-align: right;\">\n",
              "      <th></th>\n",
              "      <th>English</th>\n",
              "      <th>Spanish</th>\n",
              "    </tr>\n",
              "  </thead>\n",
              "  <tbody>\n",
              "    <tr>\n",
              "      <th>98201</th>\n",
              "      <td>&lt;start&gt; it wasn't as expensive as i expected. ...</td>\n",
              "      <td>&lt;start&gt; no fue tan caro como esperaba. &lt;end&gt;</td>\n",
              "    </tr>\n",
              "    <tr>\n",
              "      <th>20842</th>\n",
              "      <td>&lt;start&gt; the bread is fresh. &lt;end&gt;</td>\n",
              "      <td>&lt;start&gt; el pan está fresco. &lt;end&gt;</td>\n",
              "    </tr>\n",
              "    <tr>\n",
              "      <th>130906</th>\n",
              "      <td>&lt;start&gt; this problem is too simple, so it is h...</td>\n",
              "      <td>&lt;start&gt; este problema es demasiado sencillo, p...</td>\n",
              "    </tr>\n",
              "    <tr>\n",
              "      <th>19425</th>\n",
              "      <td>&lt;start&gt; i have one brother. &lt;end&gt;</td>\n",
              "      <td>&lt;start&gt; tengo un hermano. &lt;end&gt;</td>\n",
              "    </tr>\n",
              "    <tr>\n",
              "      <th>42122</th>\n",
              "      <td>&lt;start&gt; i met her along the way. &lt;end&gt;</td>\n",
              "      <td>&lt;start&gt; me encontré con ella en el camino. &lt;end&gt;</td>\n",
              "    </tr>\n",
              "    <tr>\n",
              "      <th>97182</th>\n",
              "      <td>&lt;start&gt; he devoted his whole life to science. ...</td>\n",
              "      <td>&lt;start&gt; consagró toda su vida a la ciencia. &lt;end&gt;</td>\n",
              "    </tr>\n",
              "    <tr>\n",
              "      <th>117284</th>\n",
              "      <td>&lt;start&gt; tom is very likely to know what we sho...</td>\n",
              "      <td>&lt;start&gt; lo más probable es que tom sepa lo que...</td>\n",
              "    </tr>\n",
              "    <tr>\n",
              "      <th>77197</th>\n",
              "      <td>&lt;start&gt; tom's enthusiasm is infectious. &lt;end&gt;</td>\n",
              "      <td>&lt;start&gt; el entusiasmo de tom es contagioso. &lt;end&gt;</td>\n",
              "    </tr>\n",
              "    <tr>\n",
              "      <th>57258</th>\n",
              "      <td>&lt;start&gt; my aunt brought me flowers. &lt;end&gt;</td>\n",
              "      <td>&lt;start&gt; mi tía me trajo flores. &lt;end&gt;</td>\n",
              "    </tr>\n",
              "    <tr>\n",
              "      <th>85260</th>\n",
              "      <td>&lt;start&gt; tom asked me for my phone number. &lt;end&gt;</td>\n",
              "      <td>&lt;start&gt; tom me pidió mi número de teléfono. &lt;end&gt;</td>\n",
              "    </tr>\n",
              "  </tbody>\n",
              "</table>\n",
              "</div>"
            ],
            "text/plain": [
              "                                                  English                                            Spanish\n",
              "98201   <start> it wasn't as expensive as i expected. ...       <start> no fue tan caro como esperaba. <end>\n",
              "20842                   <start> the bread is fresh. <end>                  <start> el pan está fresco. <end>\n",
              "130906  <start> this problem is too simple, so it is h...  <start> este problema es demasiado sencillo, p...\n",
              "19425                   <start> i have one brother. <end>                    <start> tengo un hermano. <end>\n",
              "42122              <start> i met her along the way. <end>   <start> me encontré con ella en el camino. <end>\n",
              "97182   <start> he devoted his whole life to science. ...  <start> consagró toda su vida a la ciencia. <end>\n",
              "117284  <start> tom is very likely to know what we sho...  <start> lo más probable es que tom sepa lo que...\n",
              "77197       <start> tom's enthusiasm is infectious. <end>  <start> el entusiasmo de tom es contagioso. <end>\n",
              "57258           <start> my aunt brought me flowers. <end>              <start> mi tía me trajo flores. <end>\n",
              "85260     <start> tom asked me for my phone number. <end>  <start> tom me pidió mi número de teléfono. <end>"
            ]
          },
          "metadata": {},
          "execution_count": 6
        }
      ]
    },
    {
      "cell_type": "code",
      "metadata": {
        "id": "PP7FSMwdp95-",
        "colab": {
          "base_uri": "https://localhost:8080/"
        },
        "outputId": "7757055d-bc5c-4f9d-ebe5-86d3583d0c6f"
      },
      "source": [
        "from tensorflow.keras.preprocessing.text import Tokenizer\n",
        "\n",
        "# convert to list for tokenizer\n",
        "source_texts = df.English.to_list()\n",
        "target_texts = df.Spanish.to_list()\n",
        "\n",
        "def tokenize_sent(text):\n",
        "  '''\n",
        "  Take list on texts as input and \n",
        "  returns its tokenizer and enocded text\n",
        "  '''\n",
        "  tokenizer = Tokenizer(filters = '')\n",
        "  tokenizer.fit_on_texts(text)\n",
        "\n",
        "  return tokenizer, tokenizer.texts_to_sequences(text)\n",
        "\n",
        "# Tokenize source and target sentences\n",
        "source_tokenizer, source_encoded= tokenize_sent(text= source_texts)\n",
        "target_tokenizer, target_encoded= tokenize_sent(text= target_texts)\n",
        "\n",
        "# diccionarios para el mapeo entre one-hot encodings y vocabulario\n",
        "source_index_word = source_tokenizer.index_word\n",
        "source_word_index= source_tokenizer.word_index\n",
        "source_VOCAB_SIZE = len(source_tokenizer.word_counts)+1\n",
        "target_index_word = target_tokenizer.index_word\n",
        "target_word_index= target_tokenizer.word_index\n",
        "target_VOCAB_SIZE=len(target_tokenizer.word_counts)+1\n",
        "\n",
        "max_source_len = 0\n",
        "for i in range(len(source_encoded)):\n",
        "  if len(source_encoded[i]) > max_source_len:\n",
        "    max_source_len= len(source_encoded[i])\n",
        "\n",
        "max_target_len = 0\n",
        "for i in range(len(target_encoded)):\n",
        "  if len(source_encoded[i]) > max_target_len:\n",
        "    max_target_len= len(target_encoded[i])\n",
        "\n",
        "print('Source language')\n",
        "print('Vocabulary size: ', source_VOCAB_SIZE, 'Max sequence length: ', max_source_len)\n",
        "print('Target language')\n",
        "print('Vocabulary size: ', target_VOCAB_SIZE, 'Max sequence length: ', max_target_len)"
      ],
      "execution_count": null,
      "outputs": [
        {
          "output_type": "stream",
          "name": "stdout",
          "text": [
            "Source language\n",
            "Vocabulary size:  24663 Max sequence length:  72\n",
            "Target language\n",
            "Vocabulary size:  44123 Max sequence length:  70\n"
          ]
        }
      ]
    },
    {
      "cell_type": "code",
      "metadata": {
        "id": "jiMOZni4p988"
      },
      "source": [
        "from tensorflow.keras.preprocessing.sequence import pad_sequences\n",
        "\n",
        "source_padded = pad_sequences(source_encoded, maxlen=max_source_len, padding='post')\n",
        "target_padded = pad_sequences(target_encoded, maxlen=max_target_len, padding='post')\n",
        "# converting to array for processing\n",
        "source_padded= np.array(source_padded)\n",
        "target_padded= np.array(target_padded)"
      ],
      "execution_count": null,
      "outputs": []
    },
    {
      "cell_type": "code",
      "metadata": {
        "id": "Uu4lrqfwp-BC",
        "colab": {
          "base_uri": "https://localhost:8080/"
        },
        "outputId": "506845a4-344e-4ce8-eb39-1b35d4d136c2"
      },
      "source": [
        "from sklearn.model_selection import train_test_split\n",
        "\n",
        "X_train, X_test, y_train, y_test = train_test_split(source_padded, target_padded, test_size=0.1, random_state=0)\n",
        "X_train.shape, X_test.shape, y_train.shape, y_test.shape"
      ],
      "execution_count": null,
      "outputs": [
        {
          "output_type": "execute_result",
          "data": {
            "text/plain": [
              "((121262, 72), (13474, 72), (121262, 70), (13474, 70))"
            ]
          },
          "metadata": {},
          "execution_count": 9
        }
      ]
    },
    {
      "cell_type": "code",
      "metadata": {
        "id": "EZ-9_eFoDDgN"
      },
      "source": [
        "import tensorflow as tf\n",
        "import os\n",
        "#from tensorflow.python.keras.layers import Layer\n",
        "#from tensorflow.python.keras import backend as K\n",
        "from tensorflow.keras.layers import Layer\n",
        "from tensorflow.keras import backend as K\n",
        "\n",
        "\n",
        "class AttentionLayer(Layer):\n",
        "    \"\"\"\n",
        "    This class implements Bahdanau attention (https://arxiv.org/pdf/1409.0473.pdf).\n",
        "    There are three sets of weights introduced W_a, U_a, and V_a\n",
        "     \"\"\"\n",
        "\n",
        "    def __init__(self, **kwargs):\n",
        "        super(AttentionLayer, self).__init__(**kwargs)\n",
        "\n",
        "    def build(self, input_shape):\n",
        "        assert isinstance(input_shape, list)\n",
        "        # Create a trainable weight variable for this layer.\n",
        "\n",
        "        self.W_a = self.add_weight(name='W_a',\n",
        "                                   shape=tf.TensorShape((input_shape[0][2], input_shape[0][2])),\n",
        "                                   initializer='uniform',\n",
        "                                   trainable=True)\n",
        "        self.U_a = self.add_weight(name='U_a',\n",
        "                                   shape=tf.TensorShape((input_shape[1][2], input_shape[0][2])),\n",
        "                                   initializer='uniform',\n",
        "                                   trainable=True)\n",
        "        self.V_a = self.add_weight(name='V_a',\n",
        "                                   shape=tf.TensorShape((input_shape[0][2], 1)),\n",
        "                                   initializer='uniform',\n",
        "                                   trainable=True)\n",
        "\n",
        "        super(AttentionLayer, self).build(input_shape)  # Be sure to call this at the end\n",
        "\n",
        "    def call(self, inputs, verbose=False):\n",
        "        \"\"\"\n",
        "        inputs: [encoder_output_sequence, decoder_output_sequence]\n",
        "        \"\"\"\n",
        "        assert type(inputs) == list\n",
        "        encoder_out_seq, decoder_out_seq = inputs\n",
        "        if verbose:\n",
        "            print('encoder_out_seq>', encoder_out_seq.shape)\n",
        "            print('decoder_out_seq>', decoder_out_seq.shape)\n",
        "\n",
        "        def energy_step(inputs, states):\n",
        "            \"\"\" Step function for computing energy for a single decoder state \"\"\"\n",
        "\n",
        "            assert_msg = \"States must be a list. However states {} is of type {}\".format(states, type(states))\n",
        "            assert isinstance(states, list) or isinstance(states, tuple), assert_msg\n",
        "\n",
        "            \"\"\" Some parameters required for shaping tensors\"\"\"\n",
        "            en_seq_len, en_hidden = encoder_out_seq.shape[1], encoder_out_seq.shape[2]\n",
        "            de_hidden = inputs.shape[-1]\n",
        "\n",
        "            \"\"\" Computing S.Wa where S=[s0, s1, ..., si]\"\"\"\n",
        "            # <= batch_size*en_seq_len, latent_dim\n",
        "            reshaped_enc_outputs = K.reshape(encoder_out_seq, (-1, en_hidden))\n",
        "            # <= batch_size*en_seq_len, latent_dim\n",
        "            W_a_dot_s = K.reshape(K.dot(reshaped_enc_outputs, self.W_a), (-1, en_seq_len, en_hidden))\n",
        "            if verbose:\n",
        "                print('wa.s>',W_a_dot_s.shape)\n",
        "\n",
        "            \"\"\" Computing hj.Ua \"\"\"\n",
        "            U_a_dot_h = K.expand_dims(K.dot(inputs, self.U_a), 1)  # <= batch_size, 1, latent_dim\n",
        "            if verbose:\n",
        "                print('Ua.h>',U_a_dot_h.shape)\n",
        "\n",
        "            \"\"\" tanh(S.Wa + hj.Ua) \"\"\"\n",
        "            # <= batch_size*en_seq_len, latent_dim\n",
        "            reshaped_Ws_plus_Uh = K.tanh(K.reshape(W_a_dot_s + U_a_dot_h, (-1, en_hidden)))\n",
        "            if verbose:\n",
        "                print('Ws+Uh>', reshaped_Ws_plus_Uh.shape)\n",
        "\n",
        "            \"\"\" softmax(va.tanh(S.Wa + hj.Ua)) \"\"\"\n",
        "            # <= batch_size, en_seq_len\n",
        "            e_i = K.reshape(K.dot(reshaped_Ws_plus_Uh, self.V_a), (-1, en_seq_len))\n",
        "            # <= batch_size, en_seq_len\n",
        "            e_i = K.softmax(e_i)\n",
        "\n",
        "            if verbose:\n",
        "                print('ei>', e_i.shape)\n",
        "\n",
        "            return e_i, [e_i]\n",
        "\n",
        "        def context_step(inputs, states):\n",
        "            \"\"\" Step function for computing ci using ei \"\"\"\n",
        "            # <= batch_size, hidden_size\n",
        "            c_i = K.sum(encoder_out_seq * K.expand_dims(inputs, -1), axis=1)\n",
        "            if verbose:\n",
        "                print('ci>', c_i.shape)\n",
        "            return c_i, [c_i]\n",
        "\n",
        "        def create_inital_state(inputs, hidden_size):\n",
        "            # We are not using initial states, but need to pass something to K.rnn funciton\n",
        "            fake_state = K.zeros_like(inputs)  # <= (batch_size, enc_seq_len, latent_dim\n",
        "            fake_state = K.sum(fake_state, axis=[1, 2])  # <= (batch_size)\n",
        "            fake_state = K.expand_dims(fake_state)  # <= (batch_size, 1)\n",
        "            fake_state = K.tile(fake_state, [1, hidden_size])  # <= (batch_size, latent_dim\n",
        "            return fake_state\n",
        "\n",
        "        fake_state_c = create_inital_state(encoder_out_seq, encoder_out_seq.shape[-1])\n",
        "        fake_state_e = create_inital_state(encoder_out_seq, encoder_out_seq.shape[1])  # <= (batch_size, enc_seq_len, latent_dim\n",
        "\n",
        "        \"\"\" Computing energy outputs \"\"\"\n",
        "        # e_outputs => (batch_size, de_seq_len, en_seq_len)\n",
        "        last_out, e_outputs, _ = K.rnn(\n",
        "            energy_step, decoder_out_seq, [fake_state_e],\n",
        "        )\n",
        "\n",
        "        \"\"\" Computing context vectors \"\"\"\n",
        "        last_out, c_outputs, _ = K.rnn(\n",
        "            context_step, e_outputs, [fake_state_c],\n",
        "        )\n",
        "\n",
        "        return c_outputs, e_outputs\n",
        "\n",
        "    def compute_output_shape(self, input_shape):\n",
        "        \"\"\" Outputs produced by the layer \"\"\"\n",
        "        return [\n",
        "            tf.TensorShape((input_shape[1][0], input_shape[1][1], input_shape[1][2])),\n",
        "            tf.TensorShape((input_shape[1][0], input_shape[1][1], input_shape[0][1]))\n",
        "        ]"
      ],
      "execution_count": null,
      "outputs": []
    },
    {
      "cell_type": "code",
      "metadata": {
        "id": "roIarJtTp-Ev"
      },
      "source": [
        "from tensorflow.keras.layers import Dense, LSTM, Bidirectional, Embedding, Concatenate, Dropout\n",
        "from tensorflow.keras import Input, Model\n",
        "from keras.layers.recurrent import LSTMCell\n",
        "\n",
        "def get_encoder(vocab_size, source_len):\n",
        "    encoder_inputs = Input(shape=(source_len,)) \n",
        "    enc_emb = Embedding(vocab_size, 1024)(encoder_inputs)\n",
        "    # Bidirectional lstm layer\n",
        "    enc_lstm1 = Bidirectional(LSTM(256,return_sequences=True,return_state=True))\n",
        "    encoder_outputs_lstm1, forw_state_h, forw_state_c, back_state_h, back_state_c = enc_lstm1(enc_emb)\n",
        "    final_enc_h = Concatenate()([forw_state_h,back_state_h])\n",
        "    final_enc_c = Concatenate()([forw_state_c,back_state_c])\n",
        "    # concatenate encoder states\n",
        "    encoder_states =[final_enc_h, final_enc_c]\n",
        "    \n",
        "    return encoder_inputs, encoder_outputs_lstm1, final_enc_h, final_enc_c\n",
        "\n",
        "def get_decoder(vocab_size, encoder_states):\n",
        "    decoder_inputs = Input(shape=(None,)) \n",
        "    dec_emb_layer = Embedding(vocab_size, 1024) \n",
        "    dec_emb = dec_emb_layer(decoder_inputs)\n",
        "    #LSTM using encoder_states as initial state\n",
        "    decoder_lstm = LSTM(512, return_sequences=True, return_state=True) \n",
        "    decoder_outputs, _, _ = decoder_lstm(dec_emb, initial_state=encoder_states)\n",
        "    \n",
        "    return(decoder_inputs, decoder_outputs, dec_emb_layer, decoder_lstm)\n",
        "\n",
        "def get_model(source_vocabsize, source_maxlen, target_vocabsize):\n",
        "    # encoder\n",
        "    encoder_inputs, encoder_outputs1, final_enc_h, final_enc_c = get_encoder(source_vocabsize, source_maxlen)\n",
        "    # concatenate encoder states\n",
        "    encoder_states =[final_enc_h, final_enc_c]\n",
        "    # decoder\n",
        "    decoder_inputs, decoder_outputs, dec_emb_layer, decoder_lstm = get_decoder(target_vocabsize, encoder_states)\n",
        "    #Attention Layer\n",
        "    attention_layer = AttentionLayer()\n",
        "    attention_result, attention_weights = attention_layer([encoder_outputs1, decoder_outputs])\n",
        "    # Concat attention output and decoder LSTM output \n",
        "    decoder_concat_input = Concatenate(axis=-1, name='concat_layer')([decoder_outputs, attention_result])\n",
        "    #Dense layer\n",
        "    decoder_dense = Dense(target_vocabsize, activation='softmax')\n",
        "    decoder_outputs = decoder_dense(decoder_concat_input)\n",
        "    # Define the model\n",
        "    model = Model([encoder_inputs, decoder_inputs], decoder_outputs) \n",
        "    \n",
        "    return model, encoder_inputs, encoder_outputs1, final_enc_h, final_enc_c, dec_emb_layer, \\\n",
        "            decoder_inputs, decoder_dense, decoder_lstm, attention_layer\n",
        "\n",
        "def get_inference_model(encoder_inputs, encoder_outputs1, final_enc_h, final_enc_c, dec_emb_layer, \\\n",
        "                        decoder_inputs, decoder_dense, decoder_lstm, attention_layer):\n",
        "    encoder_model = Model(encoder_inputs, outputs = [encoder_outputs1, final_enc_h, final_enc_c])\n",
        "    decoder_state_h = Input(shape=(512,))\n",
        "    decoder_state_c = Input(shape=(512,))\n",
        "    decoder_hidden_state_input = Input(shape=(max_source_len,512))\n",
        "    dec_states = [decoder_state_h, decoder_state_c]\n",
        "    dec_emb2 = dec_emb_layer(decoder_inputs)\n",
        "    decoder_outputs2, state_h2, state_c2 = decoder_lstm(dec_emb2, initial_state=dec_states)\n",
        "\n",
        "    # Attention inference\n",
        "    attention_result_inf, attention_weights_inf = attention_layer([decoder_hidden_state_input, decoder_outputs2])\n",
        "    decoder_concat_input_inf = Concatenate(axis=-1, name='concat_layer')([decoder_outputs2, attention_result_inf])\n",
        "\n",
        "    dec_states2= [state_h2, state_c2]\n",
        "    decoder_outputs2 = decoder_dense(decoder_concat_input_inf)\n",
        "\n",
        "    decoder_model= Model(\n",
        "                        [decoder_inputs] + [decoder_hidden_state_input, decoder_state_h, decoder_state_c],\n",
        "                         [decoder_outputs2]+ dec_states2 + [attention_weights_inf] + [attention_result_inf])\n",
        "    \n",
        "    return encoder_model, decoder_model"
      ],
      "execution_count": null,
      "outputs": []
    },
    {
      "cell_type": "markdown",
      "metadata": {
        "id": "zx9jbp8ZHG5i"
      },
      "source": [
        ""
      ]
    },
    {
      "cell_type": "code",
      "metadata": {
        "id": "LuCiLLRup-Ih"
      },
      "source": [
        "model, encoder_inputs, encoder_outputs1, final_enc_h, final_enc_c, dec_emb_layer, decoder_inputs, \\\n",
        "decoder_dense, decoder_lstm, attention_layer = get_model(source_VOCAB_SIZE, max_source_len, target_VOCAB_SIZE)"
      ],
      "execution_count": null,
      "outputs": []
    },
    {
      "cell_type": "code",
      "metadata": {
        "id": "c7VuylsjrZIg",
        "colab": {
          "base_uri": "https://localhost:8080/"
        },
        "outputId": "f94ec180-004d-4c25-adeb-f8bd3f1bd7be"
      },
      "source": [
        "model.summary()"
      ],
      "execution_count": null,
      "outputs": [
        {
          "output_type": "stream",
          "name": "stdout",
          "text": [
            "Model: \"model\"\n",
            "__________________________________________________________________________________________________\n",
            " Layer (type)                   Output Shape         Param #     Connected to                     \n",
            "==================================================================================================\n",
            " input_1 (InputLayer)           [(None, 72)]         0           []                               \n",
            "                                                                                                  \n",
            " embedding (Embedding)          (None, 72, 1024)     25254912    ['input_1[0][0]']                \n",
            "                                                                                                  \n",
            " input_2 (InputLayer)           [(None, None)]       0           []                               \n",
            "                                                                                                  \n",
            " bidirectional (Bidirectional)  [(None, 72, 512),    2623488     ['embedding[0][0]']              \n",
            "                                 (None, 256),                                                     \n",
            "                                 (None, 256),                                                     \n",
            "                                 (None, 256),                                                     \n",
            "                                 (None, 256)]                                                     \n",
            "                                                                                                  \n",
            " embedding_1 (Embedding)        (None, None, 1024)   45181952    ['input_2[0][0]']                \n",
            "                                                                                                  \n",
            " concatenate (Concatenate)      (None, 512)          0           ['bidirectional[0][1]',          \n",
            "                                                                  'bidirectional[0][3]']          \n",
            "                                                                                                  \n",
            " concatenate_1 (Concatenate)    (None, 512)          0           ['bidirectional[0][2]',          \n",
            "                                                                  'bidirectional[0][4]']          \n",
            "                                                                                                  \n",
            " lstm_1 (LSTM)                  [(None, None, 512),  3147776     ['embedding_1[0][0]',            \n",
            "                                 (None, 512),                     'concatenate[0][0]',            \n",
            "                                 (None, 512)]                     'concatenate_1[0][0]']          \n",
            "                                                                                                  \n",
            " attention_layer (AttentionLaye  ((None, None, 512),  524800     ['bidirectional[0][0]',          \n",
            " r)                              (None, None, 72))                'lstm_1[0][0]']                 \n",
            "                                                                                                  \n",
            " concat_layer (Concatenate)     (None, None, 1024)   0           ['lstm_1[0][0]',                 \n",
            "                                                                  'attention_layer[0][0]']        \n",
            "                                                                                                  \n",
            " dense (Dense)                  (None, None, 44123)  45226075    ['concat_layer[0][0]']           \n",
            "                                                                                                  \n",
            "==================================================================================================\n",
            "Total params: 121,959,003\n",
            "Trainable params: 121,959,003\n",
            "Non-trainable params: 0\n",
            "__________________________________________________________________________________________________\n"
          ]
        }
      ]
    },
    {
      "cell_type": "code",
      "metadata": {
        "id": "rULqsRlPrgvB"
      },
      "source": [
        "# Compile model\n",
        "model.compile(optimizer='adam', loss='sparse_categorical_crossentropy', metrics=['accuracy'])"
      ],
      "execution_count": null,
      "outputs": []
    },
    {
      "cell_type": "code",
      "metadata": {
        "id": "Sswj7-xorhw0"
      },
      "source": [
        "from tensorflow.keras.callbacks import ModelCheckpoint, EarlyStopping\n",
        "filepath = \"weights-improvement-{loss:.4f}-bigger.hdf5\" \n",
        "\n",
        "checkpoint = ModelCheckpoint(\n",
        "    filepath, monitor='loss', \n",
        "    verbose=0,        \n",
        "    save_best_only=False,\n",
        "    save_frec=\"epoch\"        \n",
        ")  \n",
        "#checkpoint = ModelCheckpoint(\"model3/\", monitor='val_accuracy')\n",
        "early_stopping = EarlyStopping(monitor='val_accuracy', patience=2)\n",
        "callbacks_list = [checkpoint, early_stopping]"
      ],
      "execution_count": null,
      "outputs": []
    },
    {
      "cell_type": "code",
      "metadata": {
        "id": "Pwq7N5WYrkxh"
      },
      "source": [
        "# Training\n",
        "encoder_input_data = X_train\n",
        "# To make same as target data skip last number which is just padding\n",
        "decoder_input_data = y_train[:,:-1]\n",
        "# Decoder target data has to be one step ahead so we are taking from 1 as told in keras docs\n",
        "decoder_target_data =  y_train[:,1:]\n",
        "\n",
        "# Testing\n",
        "encoder_input_test = X_test\n",
        "decoder_input_test = y_test[:,:-1]\n",
        "decoder_target_test=  y_test[:,1:]"
      ],
      "execution_count": null,
      "outputs": []
    },
    {
      "cell_type": "markdown",
      "metadata": {
        "id": "feS57pREu5_X"
      },
      "source": [
        "En la siguiente linea de código entrenamos nuestro modelo, con pocas epocas ya que para cada una de ella si tarda mucho."
      ]
    },
    {
      "cell_type": "code",
      "metadata": {
        "id": "H8u68O4Nrk2g",
        "colab": {
          "base_uri": "https://localhost:8080/"
        },
        "outputId": "cb264937-e3e7-4ba1-da7a-84e84948cfbd"
      },
      "source": [
        "EPOCHS= 10\n",
        "history = model.fit([encoder_input_data, decoder_input_data],decoder_target_data, \n",
        "                    epochs=EPOCHS, \n",
        "                    batch_size=128,\n",
        "                    validation_data = ([encoder_input_test, decoder_input_test],decoder_target_test),\n",
        "                    callbacks= callbacks_list)"
      ],
      "execution_count": null,
      "outputs": [
        {
          "output_type": "stream",
          "name": "stdout",
          "text": [
            "Epoch 1/10\n",
            "948/948 [==============================] - 799s 835ms/step - loss: 0.6169 - accuracy: 0.9220 - val_loss: 0.4433 - val_accuracy: 0.9345\n",
            "Epoch 2/10\n",
            "948/948 [==============================] - 791s 834ms/step - loss: 0.3402 - accuracy: 0.9469 - val_loss: 0.2848 - val_accuracy: 0.9554\n",
            "Epoch 3/10\n",
            "948/948 [==============================] - 791s 834ms/step - loss: 0.2079 - accuracy: 0.9627 - val_loss: 0.2257 - val_accuracy: 0.9635\n",
            "Epoch 4/10\n",
            "948/948 [==============================] - 792s 835ms/step - loss: 0.1348 - accuracy: 0.9715 - val_loss: 0.2075 - val_accuracy: 0.9658\n",
            "Epoch 5/10\n",
            "948/948 [==============================] - 791s 835ms/step - loss: 0.0915 - accuracy: 0.9784 - val_loss: 0.2020 - val_accuracy: 0.9674\n",
            "Epoch 6/10\n",
            "948/948 [==============================] - 791s 835ms/step - loss: 0.0673 - accuracy: 0.9832 - val_loss: 0.2045 - val_accuracy: 0.9674\n",
            "Epoch 7/10\n",
            "948/948 [==============================] - 791s 834ms/step - loss: 0.0534 - accuracy: 0.9862 - val_loss: 0.2067 - val_accuracy: 0.9678\n",
            "Epoch 8/10\n",
            "948/948 [==============================] - 791s 835ms/step - loss: 0.0442 - accuracy: 0.9883 - val_loss: 0.2105 - val_accuracy: 0.9677\n",
            "Epoch 9/10\n",
            "948/948 [==============================] - 791s 834ms/step - loss: 0.0373 - accuracy: 0.9900 - val_loss: 0.2151 - val_accuracy: 0.9678\n"
          ]
        }
      ]
    },
    {
      "cell_type": "code",
      "metadata": {
        "id": "JuEHBr-eatWe"
      },
      "source": [
        "encoder_model, decoder_model = \\\n",
        "                                get_inference_model(encoder_inputs, encoder_outputs1, final_enc_h, \\\n",
        "                                final_enc_c, dec_emb_layer, decoder_inputs, decoder_dense, \\\n",
        "                               decoder_lstm, attention_layer)"
      ],
      "execution_count": null,
      "outputs": []
    },
    {
      "cell_type": "markdown",
      "metadata": {
        "id": "8YOeO2W6gC0j"
      },
      "source": [
        "### b) Implementa una función `plot_attention(source_txt, target_txt, attention)` para visualizar los pesos de atención entre una sentencia del lenguaje fuente y su respectiva traducción, lo que permite visualizar también su \"alineamiento\"."
      ]
    },
    {
      "cell_type": "code",
      "metadata": {
        "id": "kqEIU6qYq8tw"
      },
      "source": [
        "encoder_model, decoder_model = \\\n",
        "                                get_inference_model(encoder_inputs, encoder_outputs1, final_enc_h, \\\n",
        "                                final_enc_c, dec_emb_layer, decoder_inputs, decoder_dense, \\\n",
        "                               decoder_lstm, attention_layer)"
      ],
      "execution_count": null,
      "outputs": []
    },
    {
      "cell_type": "code",
      "metadata": {
        "id": "yeuVhcBcw933"
      },
      "source": [
        "def get_predicted_sentence(input_seq):\n",
        "    # Encode the input as state vectors.\n",
        "    enc_output, enc_h, enc_c = encoder_model.predict(input_seq)\n",
        "    # attention weights for each token in output sequence\n",
        "    attention_weights = np.empty(shape=[0, max_source_len])\n",
        "    # Generate empty target sequence of length 1.\n",
        "    target_seq = np.zeros((1,1))\n",
        "    \n",
        "    # Populate the first character of target sequence with the start character.\n",
        "    target_seq[0, 0] = target_word_index['<start>']\n",
        "    \n",
        "    # Sampling loop for a batch of sequences\n",
        "    # (to simplify, here we assume a batch of size 1).\n",
        "    stop_condition = False\n",
        "    decoded_sentence = '<start>'\n",
        "    \n",
        "    while not stop_condition:\n",
        "        output_tokens, h, c, attention_w, attention_c = decoder_model.predict([target_seq] + [enc_output, enc_h, enc_c ])\n",
        "        #print(attention_w.shape)\n",
        "        # Sample a token\n",
        "        sampled_token_index = np.argmax(output_tokens[0, -1, :])\n",
        "\n",
        "        if sampled_token_index == 0:\n",
        "          break\n",
        "        else:\n",
        "            # convert max index number to spanish word\n",
        "            sampled_char = target_index_word[sampled_token_index]\n",
        "\n",
        "        if (sampled_char!='<end>'):\n",
        "            # aapend it ti decoded sent\n",
        "            decoded_sentence += ' '+sampled_char\n",
        "            attention_weights = np.append(attention_weights,[attention_w.reshape(-1,)],axis=0)\n",
        "        \n",
        "        # Exit condition: either hit max length or find stop token.\n",
        "        if (sampled_char == '<end>' or len(decoded_sentence.split()) >= max_source_len):\n",
        "            attention_weights = np.append(attention_weights,[attention_w.reshape(-1,)],axis=0)\n",
        "            decoded_sentence += ' '+'<end>'\n",
        "            stop_condition = True\n",
        "        \n",
        "        # Update the target sequence (of length 1).\n",
        "        target_seq = np.zeros((1,1))\n",
        "        target_seq[0, 0] = sampled_token_index\n",
        "        \n",
        "        # Update states\n",
        "        enc_h, enc_c = h, c\n",
        "    \n",
        "    return decoded_sentence, attention_weights"
      ],
      "execution_count": null,
      "outputs": []
    },
    {
      "cell_type": "code",
      "metadata": {
        "id": "arGmoc0SEo3J"
      },
      "source": [
        "def preprocess_sentence(sentence):\n",
        "    \n",
        "    num_digits= str.maketrans('','', digits)\n",
        "    sentence= sentence.lower()\n",
        "    sentence= re.sub(\" +\", \" \", sentence)\n",
        "    sentence= re.sub(\" \", \" \", sentence)\n",
        "    #sentence= re.sub(\"'\", '', sentence)\n",
        "    sentence= sentence.translate(num_digits)\n",
        "    #sentence= re.sub(r\"([?.!,¿])\", r\" \\1 \", sentence)\n",
        "    sentence = sentence.rstrip().strip()\n",
        "    sentence=  '<start> ' + sentence + '\\t<end> '\n",
        "    sentence = \" \".join(sentence.split())\n",
        "    return sentence"
      ],
      "execution_count": null,
      "outputs": []
    },
    {
      "cell_type": "code",
      "metadata": {
        "id": "mqMOFZPD1NaD"
      },
      "source": [
        "def plot_attention(attention, sentence, predicted_sentence):\n",
        "    fig = plt.figure(figsize=(10,10))\n",
        "    ax= fig.add_subplot(1,1,1)\n",
        "    ax.matshow(attention)\n",
        "    fontdict={'fontsize':10}\n",
        "    \n",
        "    ax.set_xticklabels([''] + sentence, fontdict=fontdict, rotation=90)\n",
        "    ax.set_yticklabels([''] + predicted_sentence[1::], fontdict=fontdict)\n",
        "    ax.xaxis.set_major_locator(ticker.MultipleLocator(1))\n",
        "    ax.yaxis.set_major_locator(ticker.MultipleLocator(1))\n",
        "    plt.show()"
      ],
      "execution_count": null,
      "outputs": []
    },
    {
      "cell_type": "markdown",
      "metadata": {
        "id": "AiSWuc-vvWQx"
      },
      "source": [
        "### c) Implementa una función `translate_text(source_txt)` que pueda realizar la traducción de sentencias nuevas, es decir, que no estén en el corpus que usaste para entrenar o validar tu modelo.\n"
      ]
    },
    {
      "cell_type": "code",
      "metadata": {
        "id": "zj_4DxI-uDTN"
      },
      "source": [
        "def translate(sentence):\n",
        "  sentence = preprocess_sentence(sentence)\n",
        "  \n",
        "  #convert the sentence to index based on word2index dictionary\n",
        "  inputs= [source_word_index[i] for i in sentence.split(' ')]\n",
        "  # pad the sequence \n",
        "  inputs = tf.keras.preprocessing.sequence.pad_sequences([inputs], maxlen=max_source_len, padding='post')\n",
        "\n",
        "  #conver to tensors\n",
        "  inputs = tf.convert_to_tensor(inputs)\n",
        "  trad, attention =get_predicted_sentence(inputs)\n",
        "  print('Input : %s' % (sentence))\n",
        "  print('predicted sentence :{}'.format(trad))\n",
        "\n",
        "  #attention_plot = np.zeros((max_target_len, max_source_len))\n",
        "  \n",
        "  attention_plot= attention[:len(trad.split(' ')), :len(sentence.split(' '))]\n",
        "  plot_attention(attention_plot, sentence.split(' '), trad.split(' '))\n",
        "\n",
        "  return(sentence,trad,attention,inputs )\n"
      ],
      "execution_count": null,
      "outputs": []
    },
    {
      "cell_type": "code",
      "metadata": {
        "colab": {
          "base_uri": "https://localhost:8080/",
          "height": 660
        },
        "id": "WQVQG5WF-XB5",
        "outputId": "20416d9f-7cd3-43be-f78f-abee6b188332"
      },
      "source": [
        "sentence,trad,attention, inputs_ =translate(\"Hello World.\")"
      ],
      "execution_count": null,
      "outputs": [
        {
          "output_type": "stream",
          "name": "stdout",
          "text": [
            "Input : <start> hello world. <end>\n",
            "predicted sentence :<start> ¡hola a todo el mundo. <end>\n"
          ]
        },
        {
          "output_type": "display_data",
          "data": {
            "image/png": "[encoded data removed]",
            "text/plain": [
              "<Figure size 720x720 with 1 Axes>"
            ]
          },
          "metadata": {
            "needs_background": "light"
          }
        }
      ]
    },
    {
      "cell_type": "code",
      "metadata": {
        "id": "_ZS7ll9az9pc",
        "colab": {
          "base_uri": "https://localhost:8080/",
          "height": 594
        },
        "outputId": "6f63214f-8bd5-401b-a9da-383599d7848d"
      },
      "source": [
        "sentence,trad,attention, inputs_ =translate(\"All we need is love.\")"
      ],
      "execution_count": null,
      "outputs": [
        {
          "output_type": "stream",
          "name": "stdout",
          "text": [
            "Input : <start> all we need is love. <end>\n",
            "predicted sentence :<start> lo que necesitamos es amor. <end>\n"
          ]
        },
        {
          "output_type": "display_data",
          "data": {
            "image/png": "[encoded data removed]",
            "text/plain": [
              "<Figure size 720x720 with 1 Axes>"
            ]
          },
          "metadata": {
            "needs_background": "light"
          }
        }
      ]
    },
    {
      "cell_type": "markdown",
      "metadata": {
        "id": "-1xBsqmFgC0k"
      },
      "source": [
        "En nuestros dos ejemplos mostramos resultados de haber realizado la traducción en ambos observamos que la traducción no es mala por lo que podemos decir que los resultados son buenos al traducir de inglés a español."
      ]
    },
    {
      "cell_type": "markdown",
      "metadata": {
        "id": "_MKcHZ20gC0k"
      },
      "source": [
        "### d) Una métrica para evaluar la calidad de la traducción es BLEU (Bilingual Evaluation Understudy, Papinoni et al., 2002). Realiza la evaluación de tu modelo mediante BLEU usando un conjunto de sentencias de prueba. Da tu opinión sobre la calidad de la traducción. Puedes apoyarte en https://blog.machinetranslation.io/compute-bleu-score/ para la implementación."
      ]
    },
    {
      "cell_type": "code",
      "metadata": {
        "id": "olwwwn6i6Xz9"
      },
      "source": [
        "def get_target_sentence(input_sequence):\n",
        "    sentence =''\n",
        "    for i in input_sequence:\n",
        "      if i!=0 :\n",
        "        sentence =sentence +target_index_word[i]+' '\n",
        "    return sentence \n",
        "\n",
        "def get_source_sentence(input_sequence):\n",
        "    sentence =''\n",
        "    for i in input_sequence:\n",
        "      if i!=0:\n",
        "        sentence =sentence +source_index_word[i]+' '\n",
        "    return sentence  "
      ],
      "execution_count": null,
      "outputs": []
    },
    {
      "cell_type": "code",
      "metadata": {
        "id": "57tSa3ff0N6q",
        "colab": {
          "base_uri": "https://localhost:8080/"
        },
        "outputId": "dd58d1a2-b678-4368-b91e-518d494a5feb"
      },
      "source": [
        "X_test.shape"
      ],
      "execution_count": null,
      "outputs": [
        {
          "output_type": "execute_result",
          "data": {
            "text/plain": [
              "(13474, 72)"
            ]
          },
          "metadata": {},
          "execution_count": 28
        }
      ]
    },
    {
      "cell_type": "code",
      "metadata": {
        "id": "LS3vRhW42MTg"
      },
      "source": [
        "target_=[]\n",
        "predict_=[]\n",
        "for i in np.random.randint(1, 13473, size=1000):\n",
        "    target_.append(get_target_sentence(y_test[i]))\n",
        "    sent, attention = get_predicted_sentence(X_test[i].reshape(1,max_source_len))\n",
        "    predict_.append(sent)"
      ],
      "execution_count": null,
      "outputs": []
    },
    {
      "cell_type": "code",
      "metadata": {
        "id": "lG4lwyJJFuqH",
        "colab": {
          "base_uri": "https://localhost:8080/"
        },
        "outputId": "1c7497f6-7f38-4d03-a53d-832fe4958679"
      },
      "source": [
        "!pip install sacrebleu"
      ],
      "execution_count": null,
      "outputs": [
        {
          "output_type": "stream",
          "name": "stdout",
          "text": [
            "Collecting sacrebleu\n",
            "  Downloading sacrebleu-2.0.0-py3-none-any.whl (90 kB)\n",
            "\u001b[?25l\r\u001b[K     |███▋                            | 10 kB 32.6 MB/s eta 0:00:01\r\u001b[K     |███████▏                        | 20 kB 17.6 MB/s eta 0:00:01\r\u001b[K     |██████████▉                     | 30 kB 14.7 MB/s eta 0:00:01\r\u001b[K     |██████████████▍                 | 40 kB 8.0 MB/s eta 0:00:01\r\u001b[K     |██████████████████              | 51 kB 9.2 MB/s eta 0:00:01\r\u001b[K     |█████████████████████▋          | 61 kB 9.8 MB/s eta 0:00:01\r\u001b[K     |█████████████████████████▎      | 71 kB 9.0 MB/s eta 0:00:01\r\u001b[K     |████████████████████████████▉   | 81 kB 10.0 MB/s eta 0:00:01\r\u001b[K     |████████████████████████████████| 90 kB 5.3 MB/s \n",
            "\u001b[?25hRequirement already satisfied: tabulate>=0.8.9 in /usr/local/lib/python3.7/dist-packages (from sacrebleu) (0.8.9)\n",
            "Requirement already satisfied: regex in /usr/local/lib/python3.7/dist-packages (from sacrebleu) (2019.12.20)\n",
            "Requirement already satisfied: numpy>=1.17 in /usr/local/lib/python3.7/dist-packages (from sacrebleu) (1.19.5)\n",
            "Collecting portalocker\n",
            "  Downloading portalocker-2.3.2-py2.py3-none-any.whl (15 kB)\n",
            "Collecting colorama\n",
            "  Downloading colorama-0.4.4-py2.py3-none-any.whl (16 kB)\n",
            "Installing collected packages: portalocker, colorama, sacrebleu\n",
            "Successfully installed colorama-0.4.4 portalocker-2.3.2 sacrebleu-2.0.0\n"
          ]
        }
      ]
    },
    {
      "cell_type": "code",
      "metadata": {
        "colab": {
          "base_uri": "https://localhost:8080/"
        },
        "id": "Dl4De6A34N8Q",
        "outputId": "7e3f1c4c-6c53-41e4-ee69-d510524c64d1"
      },
      "source": [
        "!pip install sacremoses"
      ],
      "execution_count": null,
      "outputs": [
        {
          "output_type": "stream",
          "name": "stdout",
          "text": [
            "Collecting sacremoses\n",
            "  Downloading sacremoses-0.0.46-py3-none-any.whl (895 kB)\n",
            "\u001b[?25l\r\u001b[K     |▍                               | 10 kB 24.8 MB/s eta 0:00:01\r\u001b[K     |▊                               | 20 kB 21.2 MB/s eta 0:00:01\r\u001b[K     |█                               | 30 kB 18.6 MB/s eta 0:00:01\r\u001b[K     |█▌                              | 40 kB 16.1 MB/s eta 0:00:01\r\u001b[K     |█▉                              | 51 kB 7.2 MB/s eta 0:00:01\r\u001b[K     |██▏                             | 61 kB 8.4 MB/s eta 0:00:01\r\u001b[K     |██▋                             | 71 kB 8.0 MB/s eta 0:00:01\r\u001b[K     |███                             | 81 kB 8.9 MB/s eta 0:00:01\r\u001b[K     |███▎                            | 92 kB 9.5 MB/s eta 0:00:01\r\u001b[K     |███▋                            | 102 kB 7.1 MB/s eta 0:00:01\r\u001b[K     |████                            | 112 kB 7.1 MB/s eta 0:00:01\r\u001b[K     |████▍                           | 122 kB 7.1 MB/s eta 0:00:01\r\u001b[K     |████▊                           | 133 kB 7.1 MB/s eta 0:00:01\r\u001b[K     |█████▏                          | 143 kB 7.1 MB/s eta 0:00:01\r\u001b[K     |█████▌                          | 153 kB 7.1 MB/s eta 0:00:01\r\u001b[K     |█████▉                          | 163 kB 7.1 MB/s eta 0:00:01\r\u001b[K     |██████▎                         | 174 kB 7.1 MB/s eta 0:00:01\r\u001b[K     |██████▋                         | 184 kB 7.1 MB/s eta 0:00:01\r\u001b[K     |███████                         | 194 kB 7.1 MB/s eta 0:00:01\r\u001b[K     |███████▎                        | 204 kB 7.1 MB/s eta 0:00:01\r\u001b[K     |███████▊                        | 215 kB 7.1 MB/s eta 0:00:01\r\u001b[K     |████████                        | 225 kB 7.1 MB/s eta 0:00:01\r\u001b[K     |████████▍                       | 235 kB 7.1 MB/s eta 0:00:01\r\u001b[K     |████████▉                       | 245 kB 7.1 MB/s eta 0:00:01\r\u001b[K     |█████████▏                      | 256 kB 7.1 MB/s eta 0:00:01\r\u001b[K     |█████████▌                      | 266 kB 7.1 MB/s eta 0:00:01\r\u001b[K     |█████████▉                      | 276 kB 7.1 MB/s eta 0:00:01\r\u001b[K     |██████████▎                     | 286 kB 7.1 MB/s eta 0:00:01\r\u001b[K     |██████████▋                     | 296 kB 7.1 MB/s eta 0:00:01\r\u001b[K     |███████████                     | 307 kB 7.1 MB/s eta 0:00:01\r\u001b[K     |███████████▍                    | 317 kB 7.1 MB/s eta 0:00:01\r\u001b[K     |███████████▊                    | 327 kB 7.1 MB/s eta 0:00:01\r\u001b[K     |████████████                    | 337 kB 7.1 MB/s eta 0:00:01\r\u001b[K     |████████████▌                   | 348 kB 7.1 MB/s eta 0:00:01\r\u001b[K     |████████████▉                   | 358 kB 7.1 MB/s eta 0:00:01\r\u001b[K     |█████████████▏                  | 368 kB 7.1 MB/s eta 0:00:01\r\u001b[K     |█████████████▌                  | 378 kB 7.1 MB/s eta 0:00:01\r\u001b[K     |██████████████                  | 389 kB 7.1 MB/s eta 0:00:01\r\u001b[K     |██████████████▎                 | 399 kB 7.1 MB/s eta 0:00:01\r\u001b[K     |██████████████▋                 | 409 kB 7.1 MB/s eta 0:00:01\r\u001b[K     |███████████████                 | 419 kB 7.1 MB/s eta 0:00:01\r\u001b[K     |███████████████▍                | 430 kB 7.1 MB/s eta 0:00:01\r\u001b[K     |███████████████▊                | 440 kB 7.1 MB/s eta 0:00:01\r\u001b[K     |████████████████                | 450 kB 7.1 MB/s eta 0:00:01\r\u001b[K     |████████████████▌               | 460 kB 7.1 MB/s eta 0:00:01\r\u001b[K     |████████████████▉               | 471 kB 7.1 MB/s eta 0:00:01\r\u001b[K     |█████████████████▏              | 481 kB 7.1 MB/s eta 0:00:01\r\u001b[K     |█████████████████▋              | 491 kB 7.1 MB/s eta 0:00:01\r\u001b[K     |██████████████████              | 501 kB 7.1 MB/s eta 0:00:01\r\u001b[K     |██████████████████▎             | 512 kB 7.1 MB/s eta 0:00:01\r\u001b[K     |██████████████████▊             | 522 kB 7.1 MB/s eta 0:00:01\r\u001b[K     |███████████████████             | 532 kB 7.1 MB/s eta 0:00:01\r\u001b[K     |███████████████████▍            | 542 kB 7.1 MB/s eta 0:00:01\r\u001b[K     |███████████████████▊            | 552 kB 7.1 MB/s eta 0:00:01\r\u001b[K     |████████████████████▏           | 563 kB 7.1 MB/s eta 0:00:01\r\u001b[K     |████████████████████▌           | 573 kB 7.1 MB/s eta 0:00:01\r\u001b[K     |████████████████████▉           | 583 kB 7.1 MB/s eta 0:00:01\r\u001b[K     |█████████████████████▎          | 593 kB 7.1 MB/s eta 0:00:01\r\u001b[K     |█████████████████████▋          | 604 kB 7.1 MB/s eta 0:00:01\r\u001b[K     |██████████████████████          | 614 kB 7.1 MB/s eta 0:00:01\r\u001b[K     |██████████████████████▎         | 624 kB 7.1 MB/s eta 0:00:01\r\u001b[K     |██████████████████████▊         | 634 kB 7.1 MB/s eta 0:00:01\r\u001b[K     |███████████████████████         | 645 kB 7.1 MB/s eta 0:00:01\r\u001b[K     |███████████████████████▍        | 655 kB 7.1 MB/s eta 0:00:01\r\u001b[K     |███████████████████████▉        | 665 kB 7.1 MB/s eta 0:00:01\r\u001b[K     |████████████████████████▏       | 675 kB 7.1 MB/s eta 0:00:01\r\u001b[K     |████████████████████████▌       | 686 kB 7.1 MB/s eta 0:00:01\r\u001b[K     |█████████████████████████       | 696 kB 7.1 MB/s eta 0:00:01\r\u001b[K     |█████████████████████████▎      | 706 kB 7.1 MB/s eta 0:00:01\r\u001b[K     |█████████████████████████▋      | 716 kB 7.1 MB/s eta 0:00:01\r\u001b[K     |██████████████████████████      | 727 kB 7.1 MB/s eta 0:00:01\r\u001b[K     |██████████████████████████▍     | 737 kB 7.1 MB/s eta 0:00:01\r\u001b[K     |██████████████████████████▊     | 747 kB 7.1 MB/s eta 0:00:01\r\u001b[K     |███████████████████████████     | 757 kB 7.1 MB/s eta 0:00:01\r\u001b[K     |███████████████████████████▌    | 768 kB 7.1 MB/s eta 0:00:01\r\u001b[K     |███████████████████████████▉    | 778 kB 7.1 MB/s eta 0:00:01\r\u001b[K     |████████████████████████████▏   | 788 kB 7.1 MB/s eta 0:00:01\r\u001b[K     |████████████████████████████▌   | 798 kB 7.1 MB/s eta 0:00:01\r\u001b[K     |█████████████████████████████   | 808 kB 7.1 MB/s eta 0:00:01\r\u001b[K     |█████████████████████████████▎  | 819 kB 7.1 MB/s eta 0:00:01\r\u001b[K     |█████████████████████████████▋  | 829 kB 7.1 MB/s eta 0:00:01\r\u001b[K     |██████████████████████████████  | 839 kB 7.1 MB/s eta 0:00:01\r\u001b[K     |██████████████████████████████▍ | 849 kB 7.1 MB/s eta 0:00:01\r\u001b[K     |██████████████████████████████▊ | 860 kB 7.1 MB/s eta 0:00:01\r\u001b[K     |███████████████████████████████▏| 870 kB 7.1 MB/s eta 0:00:01\r\u001b[K     |███████████████████████████████▌| 880 kB 7.1 MB/s eta 0:00:01\r\u001b[K     |███████████████████████████████▉| 890 kB 7.1 MB/s eta 0:00:01\r\u001b[K     |████████████████████████████████| 895 kB 7.1 MB/s \n",
            "\u001b[?25hRequirement already satisfied: click in /usr/local/lib/python3.7/dist-packages (from sacremoses) (7.1.2)\n",
            "Requirement already satisfied: tqdm in /usr/local/lib/python3.7/dist-packages (from sacremoses) (4.62.3)\n",
            "Requirement already satisfied: joblib in /usr/local/lib/python3.7/dist-packages (from sacremoses) (1.1.0)\n",
            "Requirement already satisfied: regex in /usr/local/lib/python3.7/dist-packages (from sacremoses) (2019.12.20)\n",
            "Requirement already satisfied: six in /usr/local/lib/python3.7/dist-packages (from sacremoses) (1.15.0)\n",
            "Installing collected packages: sacremoses\n",
            "Successfully installed sacremoses-0.0.46\n"
          ]
        }
      ]
    },
    {
      "cell_type": "code",
      "metadata": {
        "id": "ypYWaKqo3nSZ",
        "colab": {
          "base_uri": "https://localhost:8080/"
        },
        "outputId": "8ef4c0ed-110b-4db7-c620-f5b300059d8e"
      },
      "source": [
        "import sacrebleu\n",
        "from sacremoses import MosesDetokenizer\n",
        "md = MosesDetokenizer(lang='en')\n",
        "\n",
        "\n",
        "# Open the test dataset human translation file and detokenize the references\n",
        "refs = []\n",
        "\n",
        "for line in target_: \n",
        "  line = line.strip().split() \n",
        "  line = md.detokenize(line) \n",
        "  refs.append(line)\n",
        "    \n",
        "print(\"Reference 1st sentence:\", refs[0])\n",
        "\n",
        "refs = [refs]  # Yes, it is a list of list(s) as required by sacreBLEU\n",
        "\n",
        "\n",
        "# Open the translation file by the NMT model and detokenize the predictions\n",
        "preds = []\n",
        "\n",
        "for line in predict_: \n",
        "  line = line.strip().split() \n",
        "  line = md.detokenize(line) \n",
        "  preds.append(line)\n",
        "\n",
        "print(\"MTed 1st sentence:\", preds[0])    \n",
        "\n",
        "\n",
        "# Calculate and print the BLEU score\n",
        "bleu = sacrebleu.corpus_bleu(preds, refs)\n",
        "print(bleu.score)"
      ],
      "execution_count": null,
      "outputs": [
        {
          "output_type": "stream",
          "name": "stdout",
          "text": [
            "Reference 1st sentence: <start> se acabó todo. <end>\n",
            "MTed 1st sentence: <start> todo está hecho. <end>\n",
            "61.22086229545785\n"
          ]
        }
      ]
    },
    {
      "cell_type": "markdown",
      "metadata": {
        "id": "RUufAQVzwa2K"
      },
      "source": [
        "En la anterior linea encontramos los resultados de evaluar la calidad de la metrica, nos da un resultado bueno."
      ]
    },
    {
      "cell_type": "markdown",
      "metadata": {
        "id": "9NKIA4xH-hQ_"
      },
      "source": [
        "# Español - Ingles\n",
        "Ahora lo que vamos a realizar es basicamente lo mismo que se hizo para el modelo inglés-español pero ahora buscamos un modelo de español a inglés."
      ]
    },
    {
      "cell_type": "code",
      "metadata": {
        "id": "i2MCBywd6zoo"
      },
      "source": [
        "# convert to list for tokenizer\n",
        "source_texts = df.Spanish.to_list() \n",
        "target_texts = df.English.to_list()"
      ],
      "execution_count": null,
      "outputs": []
    },
    {
      "cell_type": "code",
      "metadata": {
        "colab": {
          "base_uri": "https://localhost:8080/"
        },
        "id": "9SKfpeGD6zvU",
        "outputId": "eb32bfd2-c1e8-4fcb-d77b-cc4d55a747c4"
      },
      "source": [
        "def tokenize_sent(text):\n",
        "  '''\n",
        "  Take list on texts as input and \n",
        "  returns its tokenizer and enocded text\n",
        "  '''\n",
        "  tokenizer = Tokenizer(filters = '')\n",
        "  tokenizer.fit_on_texts(text)\n",
        "\n",
        "  return tokenizer, tokenizer.texts_to_sequences(text)\n",
        "\n",
        "# Tokenize source and target sentences\n",
        "source_tokenizer, source_encoded= tokenize_sent(text= source_texts)\n",
        "target_tokenizer, target_encoded= tokenize_sent(text= target_texts)\n",
        "\n",
        "# diccionarios para el mapeo entre one-hot encodings y vocabulario\n",
        "source_index_word = source_tokenizer.index_word\n",
        "source_word_index= source_tokenizer.word_index\n",
        "source_VOCAB_SIZE = len(source_tokenizer.word_counts)+1\n",
        "target_index_word = target_tokenizer.index_word\n",
        "target_word_index= target_tokenizer.word_index\n",
        "target_VOCAB_SIZE=len(target_tokenizer.word_counts)+1\n",
        "\n",
        "max_source_len = 0\n",
        "for i in range(len(source_encoded)):\n",
        "  if len(source_encoded[i]) > max_source_len:\n",
        "    max_source_len= len(source_encoded[i])\n",
        "\n",
        "max_target_len = 0\n",
        "for i in range(len(target_encoded)):\n",
        "  if len(source_encoded[i]) > max_target_len:\n",
        "    max_target_len= len(target_encoded[i])\n",
        "\n",
        "print('Source language')\n",
        "print('Vocabulary size: ', source_VOCAB_SIZE, 'Max sequence length: ', max_source_len)\n",
        "print('Target language')\n",
        "print('Vocabulary size: ', target_VOCAB_SIZE, 'Max sequence length: ', max_target_len)"
      ],
      "execution_count": null,
      "outputs": [
        {
          "output_type": "stream",
          "name": "stdout",
          "text": [
            "Source language\n",
            "Vocabulary size:  44123 Max sequence length:  70\n",
            "Target language\n",
            "Vocabulary size:  24663 Max sequence length:  72\n"
          ]
        }
      ]
    },
    {
      "cell_type": "code",
      "metadata": {
        "id": "Q-SoMJG76zyB"
      },
      "source": [
        "from tensorflow.keras.preprocessing.sequence import pad_sequences\n",
        "\n",
        "source_padded = pad_sequences(source_encoded, maxlen=max_source_len, padding='post')\n",
        "target_padded = pad_sequences(target_encoded, maxlen=max_target_len, padding='post')\n",
        "# converting to array for processing\n",
        "source_padded= np.array(source_padded)\n",
        "target_padded= np.array(target_padded)"
      ],
      "execution_count": null,
      "outputs": []
    },
    {
      "cell_type": "code",
      "metadata": {
        "colab": {
          "base_uri": "https://localhost:8080/"
        },
        "id": "IgnPP0h86z1B",
        "outputId": "a786ea6c-15e2-431b-f3d3-abc2173958ad"
      },
      "source": [
        "from sklearn.model_selection import train_test_split\n",
        "\n",
        "X_train, X_test, y_train, y_test = train_test_split(source_padded, target_padded, test_size=0.1, random_state=0)\n",
        "X_train.shape, X_test.shape, y_train.shape, y_test.shape"
      ],
      "execution_count": null,
      "outputs": [
        {
          "output_type": "execute_result",
          "data": {
            "text/plain": [
              "((121262, 70), (13474, 70), (121262, 72), (13474, 72))"
            ]
          },
          "metadata": {},
          "execution_count": 41
        }
      ]
    },
    {
      "cell_type": "code",
      "metadata": {
        "id": "B32-WWghD8BN"
      },
      "source": [
        "class AttentionLayer(Layer):\n",
        "    \"\"\"\n",
        "    This class implements Bahdanau attention (https://arxiv.org/pdf/1409.0473.pdf).\n",
        "    There are three sets of weights introduced W_a, U_a, and V_a\n",
        "     \"\"\"\n",
        "\n",
        "    def __init__(self, **kwargs):\n",
        "        super(AttentionLayer, self).__init__(**kwargs)\n",
        "\n",
        "    def build(self, input_shape):\n",
        "        assert isinstance(input_shape, list)\n",
        "        # Create a trainable weight variable for this layer.\n",
        "\n",
        "        self.W_a = self.add_weight(name='W_a',\n",
        "                                   shape=tf.TensorShape((input_shape[0][2], input_shape[0][2])),\n",
        "                                   initializer='uniform',\n",
        "                                   trainable=True)\n",
        "        self.U_a = self.add_weight(name='U_a',\n",
        "                                   shape=tf.TensorShape((input_shape[1][2], input_shape[0][2])),\n",
        "                                   initializer='uniform',\n",
        "                                   trainable=True)\n",
        "        self.V_a = self.add_weight(name='V_a',\n",
        "                                   shape=tf.TensorShape((input_shape[0][2], 1)),\n",
        "                                   initializer='uniform',\n",
        "                                   trainable=True)\n",
        "\n",
        "        super(AttentionLayer, self).build(input_shape)  # Be sure to call this at the end\n",
        "\n",
        "    def call(self, inputs, verbose=False):\n",
        "        \"\"\"\n",
        "        inputs: [encoder_output_sequence, decoder_output_sequence]\n",
        "        \"\"\"\n",
        "        assert type(inputs) == list\n",
        "        encoder_out_seq, decoder_out_seq = inputs\n",
        "        if verbose:\n",
        "            print('encoder_out_seq>', encoder_out_seq.shape)\n",
        "            print('decoder_out_seq>', decoder_out_seq.shape)\n",
        "\n",
        "        def energy_step(inputs, states):\n",
        "            \"\"\" Step function for computing energy for a single decoder state \"\"\"\n",
        "\n",
        "            assert_msg = \"States must be a list. However states {} is of type {}\".format(states, type(states))\n",
        "            assert isinstance(states, list) or isinstance(states, tuple), assert_msg\n",
        "\n",
        "            \"\"\" Some parameters required for shaping tensors\"\"\"\n",
        "            en_seq_len, en_hidden = encoder_out_seq.shape[1], encoder_out_seq.shape[2]\n",
        "            de_hidden = inputs.shape[-1]\n",
        "\n",
        "            \"\"\" Computing S.Wa where S=[s0, s1, ..., si]\"\"\"\n",
        "            # <= batch_size*en_seq_len, latent_dim\n",
        "            reshaped_enc_outputs = K.reshape(encoder_out_seq, (-1, en_hidden))\n",
        "            # <= batch_size*en_seq_len, latent_dim\n",
        "            W_a_dot_s = K.reshape(K.dot(reshaped_enc_outputs, self.W_a), (-1, en_seq_len, en_hidden))\n",
        "            if verbose:\n",
        "                print('wa.s>',W_a_dot_s.shape)\n",
        "\n",
        "            \"\"\" Computing hj.Ua \"\"\"\n",
        "            U_a_dot_h = K.expand_dims(K.dot(inputs, self.U_a), 1)  # <= batch_size, 1, latent_dim\n",
        "            if verbose:\n",
        "                print('Ua.h>',U_a_dot_h.shape)\n",
        "\n",
        "            \"\"\" tanh(S.Wa + hj.Ua) \"\"\"\n",
        "            # <= batch_size*en_seq_len, latent_dim\n",
        "            reshaped_Ws_plus_Uh = K.tanh(K.reshape(W_a_dot_s + U_a_dot_h, (-1, en_hidden)))\n",
        "            if verbose:\n",
        "                print('Ws+Uh>', reshaped_Ws_plus_Uh.shape)\n",
        "\n",
        "            \"\"\" softmax(va.tanh(S.Wa + hj.Ua)) \"\"\"\n",
        "            # <= batch_size, en_seq_len\n",
        "            e_i = K.reshape(K.dot(reshaped_Ws_plus_Uh, self.V_a), (-1, en_seq_len))\n",
        "            # <= batch_size, en_seq_len\n",
        "            e_i = K.softmax(e_i)\n",
        "\n",
        "            if verbose:\n",
        "                print('ei>', e_i.shape)\n",
        "\n",
        "            return e_i, [e_i]\n",
        "\n",
        "        def context_step(inputs, states):\n",
        "            \"\"\" Step function for computing ci using ei \"\"\"\n",
        "            # <= batch_size, hidden_size\n",
        "            c_i = K.sum(encoder_out_seq * K.expand_dims(inputs, -1), axis=1)\n",
        "            if verbose:\n",
        "                print('ci>', c_i.shape)\n",
        "            return c_i, [c_i]\n",
        "\n",
        "        def create_inital_state(inputs, hidden_size):\n",
        "            # We are not using initial states, but need to pass something to K.rnn funciton\n",
        "            fake_state = K.zeros_like(inputs)  # <= (batch_size, enc_seq_len, latent_dim\n",
        "            fake_state = K.sum(fake_state, axis=[1, 2])  # <= (batch_size)\n",
        "            fake_state = K.expand_dims(fake_state)  # <= (batch_size, 1)\n",
        "            fake_state = K.tile(fake_state, [1, hidden_size])  # <= (batch_size, latent_dim\n",
        "            return fake_state\n",
        "\n",
        "        fake_state_c = create_inital_state(encoder_out_seq, encoder_out_seq.shape[-1])\n",
        "        fake_state_e = create_inital_state(encoder_out_seq, encoder_out_seq.shape[1])  # <= (batch_size, enc_seq_len, latent_dim\n",
        "\n",
        "        \"\"\" Computing energy outputs \"\"\"\n",
        "        # e_outputs => (batch_size, de_seq_len, en_seq_len)\n",
        "        last_out, e_outputs, _ = K.rnn(\n",
        "            energy_step, decoder_out_seq, [fake_state_e],\n",
        "        )\n",
        "\n",
        "        \"\"\" Computing context vectors \"\"\"\n",
        "        last_out, c_outputs, _ = K.rnn(\n",
        "            context_step, e_outputs, [fake_state_c],\n",
        "        )\n",
        "\n",
        "        return c_outputs, e_outputs\n",
        "\n",
        "    def compute_output_shape(self, input_shape):\n",
        "        \"\"\" Outputs produced by the layer \"\"\"\n",
        "        return [\n",
        "            tf.TensorShape((input_shape[1][0], input_shape[1][1], input_shape[1][2])),\n",
        "            tf.TensorShape((input_shape[1][0], input_shape[1][1], input_shape[0][1]))\n",
        "        ]"
      ],
      "execution_count": null,
      "outputs": []
    },
    {
      "cell_type": "code",
      "metadata": {
        "id": "NK5-xYIRDTr8"
      },
      "source": [
        "from tensorflow.keras.layers import Dense, LSTM, Bidirectional, Embedding, Concatenate, Dropout\n",
        "from tensorflow.keras import Input, Model\n",
        "#from BahdanauAttention import AttentionLayer\n",
        "from keras.layers.recurrent import LSTMCell\n",
        "\n",
        "def get_encoder(vocab_size, source_len):\n",
        "    encoder_inputs = Input(shape=(source_len,)) \n",
        "    enc_emb = Embedding(vocab_size, 1024)(encoder_inputs)\n",
        "    # Bidirectional lstm layer\n",
        "    enc_lstm1 = Bidirectional(LSTM(256,return_sequences=True,return_state=True))\n",
        "    encoder_outputs_lstm1, forw_state_h, forw_state_c, back_state_h, back_state_c = enc_lstm1(enc_emb)\n",
        "    final_enc_h = Concatenate()([forw_state_h,back_state_h])\n",
        "    final_enc_c = Concatenate()([forw_state_c,back_state_c])\n",
        "    # concatenate encoder states\n",
        "    encoder_states =[final_enc_h, final_enc_c]\n",
        "    \n",
        "    return encoder_inputs, encoder_outputs_lstm1, final_enc_h, final_enc_c\n",
        "\n",
        "def get_decoder(vocab_size, encoder_states):\n",
        "    decoder_inputs = Input(shape=(None,)) \n",
        "    dec_emb_layer = Embedding(vocab_size, 1024) \n",
        "    dec_emb = dec_emb_layer(decoder_inputs)\n",
        "    #LSTM using encoder_states as initial state\n",
        "    decoder_lstm = LSTM(512, return_sequences=True, return_state=True) \n",
        "    decoder_outputs, _, _ = decoder_lstm(dec_emb, initial_state=encoder_states)\n",
        "    \n",
        "    return(decoder_inputs, decoder_outputs, dec_emb_layer, decoder_lstm)\n",
        "\n",
        "def get_model(source_vocabsize, source_maxlen, target_vocabsize):\n",
        "    # encoder\n",
        "    encoder_inputs, encoder_outputs1, final_enc_h, final_enc_c = get_encoder(source_vocabsize, source_maxlen)\n",
        "    # concatenate encoder states\n",
        "    encoder_states =[final_enc_h, final_enc_c]\n",
        "    # decoder\n",
        "    decoder_inputs, decoder_outputs, dec_emb_layer, decoder_lstm = get_decoder(target_vocabsize, encoder_states)\n",
        "    #Attention Layer\n",
        "    attention_layer = AttentionLayer()\n",
        "    attention_result, attention_weights = attention_layer([encoder_outputs1, decoder_outputs])\n",
        "    # Concat attention output and decoder LSTM output \n",
        "    decoder_concat_input = Concatenate(axis=-1, name='concat_layer')([decoder_outputs, attention_result])\n",
        "    #Dense layer\n",
        "    decoder_dense = Dense(target_vocabsize, activation='softmax')\n",
        "    decoder_outputs = decoder_dense(decoder_concat_input)\n",
        "    # Define the model\n",
        "    model = Model([encoder_inputs, decoder_inputs], decoder_outputs) \n",
        "    \n",
        "    return model, encoder_inputs, encoder_outputs1, final_enc_h, final_enc_c, dec_emb_layer, \\\n",
        "            decoder_inputs, decoder_dense, decoder_lstm, attention_layer\n",
        "\n",
        "def get_inference_model(encoder_inputs, encoder_outputs1, final_enc_h, final_enc_c, dec_emb_layer, \\\n",
        "                        decoder_inputs, decoder_dense, decoder_lstm, attention_layer):\n",
        "    encoder_model = Model(encoder_inputs, outputs = [encoder_outputs1, final_enc_h, final_enc_c])\n",
        "    decoder_state_h = Input(shape=(512,))\n",
        "    decoder_state_c = Input(shape=(512,))\n",
        "    decoder_hidden_state_input = Input(shape=(max_source_len,512))\n",
        "    dec_states = [decoder_state_h, decoder_state_c]\n",
        "    dec_emb2 = dec_emb_layer(decoder_inputs)\n",
        "    decoder_outputs2, state_h2, state_c2 = decoder_lstm(dec_emb2, initial_state=dec_states)\n",
        "\n",
        "    # Attention inference\n",
        "    attention_result_inf, attention_weights_inf = attention_layer([decoder_hidden_state_input, decoder_outputs2])\n",
        "    decoder_concat_input_inf = Concatenate(axis=-1, name='concat_layer')([decoder_outputs2, attention_result_inf])\n",
        "\n",
        "    dec_states2= [state_h2, state_c2]\n",
        "    decoder_outputs2 = decoder_dense(decoder_concat_input_inf)\n",
        "\n",
        "    decoder_model= Model(\n",
        "                        [decoder_inputs] + [decoder_hidden_state_input, decoder_state_h, decoder_state_c],\n",
        "                         [decoder_outputs2]+ dec_states2 + [attention_weights_inf] + [attention_result_inf])\n",
        "    \n",
        "    return encoder_model, decoder_model"
      ],
      "execution_count": null,
      "outputs": []
    },
    {
      "cell_type": "code",
      "metadata": {
        "id": "9bIKhRX_DTu3"
      },
      "source": [
        "model, encoder_inputs, encoder_outputs1, final_enc_h, final_enc_c, dec_emb_layer, decoder_inputs, \\\n",
        "decoder_dense, decoder_lstm, attention_layer = get_model(source_VOCAB_SIZE, max_source_len, target_VOCAB_SIZE)"
      ],
      "execution_count": null,
      "outputs": []
    },
    {
      "cell_type": "code",
      "metadata": {
        "colab": {
          "base_uri": "https://localhost:8080/"
        },
        "id": "rLmHoNSHDT1a",
        "outputId": "ce3d9b5e-9db6-4bc4-e5b1-757a5595c580"
      },
      "source": [
        "model.summary()"
      ],
      "execution_count": null,
      "outputs": [
        {
          "output_type": "stream",
          "name": "stdout",
          "text": [
            "Model: \"model_5\"\n",
            "__________________________________________________________________________________________________\n",
            " Layer (type)                   Output Shape         Param #     Connected to                     \n",
            "==================================================================================================\n",
            " input_9 (InputLayer)           [(None, 70)]         0           []                               \n",
            "                                                                                                  \n",
            " embedding_2 (Embedding)        (None, 70, 1024)     45181952    ['input_9[0][0]']                \n",
            "                                                                                                  \n",
            " input_10 (InputLayer)          [(None, None)]       0           []                               \n",
            "                                                                                                  \n",
            " bidirectional_1 (Bidirectional  [(None, 70, 512),   2623488     ['embedding_2[0][0]']            \n",
            " )                               (None, 256),                                                     \n",
            "                                 (None, 256),                                                     \n",
            "                                 (None, 256),                                                     \n",
            "                                 (None, 256)]                                                     \n",
            "                                                                                                  \n",
            " embedding_3 (Embedding)        (None, None, 1024)   25254912    ['input_10[0][0]']               \n",
            "                                                                                                  \n",
            " concatenate_2 (Concatenate)    (None, 512)          0           ['bidirectional_1[0][1]',        \n",
            "                                                                  'bidirectional_1[0][3]']        \n",
            "                                                                                                  \n",
            " concatenate_3 (Concatenate)    (None, 512)          0           ['bidirectional_1[0][2]',        \n",
            "                                                                  'bidirectional_1[0][4]']        \n",
            "                                                                                                  \n",
            " lstm_3 (LSTM)                  [(None, None, 512),  3147776     ['embedding_3[0][0]',            \n",
            "                                 (None, 512),                     'concatenate_2[0][0]',          \n",
            "                                 (None, 512)]                     'concatenate_3[0][0]']          \n",
            "                                                                                                  \n",
            " attention_layer_1 (AttentionLa  ((None, None, 512),  524800     ['bidirectional_1[0][0]',        \n",
            " yer)                            (None, None, 70))                'lstm_3[0][0]']                 \n",
            "                                                                                                  \n",
            " concat_layer (Concatenate)     (None, None, 1024)   0           ['lstm_3[0][0]',                 \n",
            "                                                                  'attention_layer_1[0][0]']      \n",
            "                                                                                                  \n",
            " dense_1 (Dense)                (None, None, 24663)  25279575    ['concat_layer[0][0]']           \n",
            "                                                                                                  \n",
            "==================================================================================================\n",
            "Total params: 102,012,503\n",
            "Trainable params: 102,012,503\n",
            "Non-trainable params: 0\n",
            "__________________________________________________________________________________________________\n"
          ]
        }
      ]
    },
    {
      "cell_type": "code",
      "metadata": {
        "id": "veGyCdJJEBTM"
      },
      "source": [
        "# Compile model\n",
        "model.compile(optimizer='adam', loss='sparse_categorical_crossentropy', metrics=['accuracy'])"
      ],
      "execution_count": null,
      "outputs": []
    },
    {
      "cell_type": "code",
      "metadata": {
        "id": "o5rxiyznEBXb"
      },
      "source": [
        "from tensorflow.keras.callbacks import ModelCheckpoint, EarlyStopping\n",
        "filepath = \"weights-improvement-{loss:.4f}-bigger.hdf5\" \n",
        "\n",
        "checkpoint = ModelCheckpoint(\n",
        "    filepath, monitor='loss', \n",
        "    verbose=0,        \n",
        "    save_best_only=False,\n",
        "    save_frec=\"epoch\"        \n",
        ")  \n",
        "#checkpoint = ModelCheckpoint(\"model3/\", monitor='val_accuracy')\n",
        "early_stopping = EarlyStopping(monitor='val_accuracy', patience=2)\n",
        "callbacks_list = [checkpoint, early_stopping]"
      ],
      "execution_count": null,
      "outputs": []
    },
    {
      "cell_type": "code",
      "metadata": {
        "id": "qpl989bdEBbT"
      },
      "source": [
        "# Training\n",
        "encoder_input_data = X_train\n",
        "# To make same as target data skip last number which is just padding\n",
        "decoder_input_data = y_train[:,:-1]\n",
        "# Decoder target data has to be one step ahead so we are taking from 1 as told in keras docs\n",
        "decoder_target_data =  y_train[:,1:]\n",
        "\n",
        "# Testing\n",
        "encoder_input_test = X_test\n",
        "decoder_input_test = y_test[:,:-1]\n",
        "decoder_target_test=  y_test[:,1:]"
      ],
      "execution_count": null,
      "outputs": []
    },
    {
      "cell_type": "code",
      "metadata": {
        "colab": {
          "base_uri": "https://localhost:8080/"
        },
        "id": "96pjKqzqEIS2",
        "outputId": "045b2009-bbb3-4ac0-d315-79035aa57e84"
      },
      "source": [
        "EPOCHS= 10\n",
        "history = model.fit([encoder_input_data, decoder_input_data],decoder_target_data, \n",
        "                    epochs=EPOCHS, \n",
        "                    batch_size=128,\n",
        "                    validation_data = ([encoder_input_test, decoder_input_test],decoder_target_test),\n",
        "                    callbacks= callbacks_list)"
      ],
      "execution_count": null,
      "outputs": [
        {
          "output_type": "stream",
          "name": "stdout",
          "text": [
            "Epoch 1/10\n",
            "948/948 [==============================] - 603s 632ms/step - loss: 0.5527 - accuracy: 0.9244 - val_loss: 0.3800 - val_accuracy: 0.9397\n",
            "Epoch 2/10\n",
            "948/948 [==============================] - 597s 630ms/step - loss: 0.2877 - accuracy: 0.9526 - val_loss: 0.2336 - val_accuracy: 0.9614\n",
            "Epoch 3/10\n",
            "948/948 [==============================] - 597s 630ms/step - loss: 0.1688 - accuracy: 0.9688 - val_loss: 0.1814 - val_accuracy: 0.9688\n",
            "Epoch 4/10\n",
            "948/948 [==============================] - 598s 630ms/step - loss: 0.1069 - accuracy: 0.9773 - val_loss: 0.1624 - val_accuracy: 0.9719\n",
            "Epoch 5/10\n",
            "948/948 [==============================] - 598s 631ms/step - loss: 0.0705 - accuracy: 0.9835 - val_loss: 0.1580 - val_accuracy: 0.9729\n",
            "Epoch 6/10\n",
            "948/948 [==============================] - 598s 631ms/step - loss: 0.0496 - accuracy: 0.9877 - val_loss: 0.1578 - val_accuracy: 0.9734\n",
            "Epoch 7/10\n",
            "948/948 [==============================] - 598s 631ms/step - loss: 0.0373 - accuracy: 0.9904 - val_loss: 0.1590 - val_accuracy: 0.9737\n",
            "Epoch 8/10\n",
            "948/948 [==============================] - 598s 631ms/step - loss: 0.0290 - accuracy: 0.9923 - val_loss: 0.1617 - val_accuracy: 0.9738\n",
            "Epoch 9/10\n",
            "948/948 [==============================] - 598s 631ms/step - loss: 0.0232 - accuracy: 0.9938 - val_loss: 0.1660 - val_accuracy: 0.9739\n",
            "Epoch 10/10\n",
            "948/948 [==============================] - 599s 632ms/step - loss: 0.0192 - accuracy: 0.9948 - val_loss: 0.1698 - val_accuracy: 0.9737\n"
          ]
        }
      ]
    },
    {
      "cell_type": "code",
      "metadata": {
        "id": "2cShXdP0EIVv"
      },
      "source": [
        "encoder_model, decoder_model = \\\n",
        "                                get_inference_model(encoder_inputs, encoder_outputs1, final_enc_h, \\\n",
        "                                final_enc_c, dec_emb_layer, decoder_inputs, decoder_dense, \\\n",
        "                               decoder_lstm, attention_layer)"
      ],
      "execution_count": null,
      "outputs": []
    },
    {
      "cell_type": "code",
      "metadata": {
        "id": "-DhYdTe0EIYS"
      },
      "source": [
        "def get_predicted_sentence(input_seq):\n",
        "    # Encode the input as state vectors.\n",
        "    enc_output, enc_h, enc_c = encoder_model.predict(input_seq)\n",
        "    # attention weights for each token in output sequence\n",
        "    attention_weights = np.empty(shape=[0, max_source_len])\n",
        "    # Generate empty target sequence of length 1.\n",
        "    target_seq = np.zeros((1,1))\n",
        "    \n",
        "    # Populate the first character of target sequence with the start character.\n",
        "    target_seq[0, 0] = target_word_index['<start>']\n",
        "    \n",
        "    # Sampling loop for a batch of sequences\n",
        "    # (to simplify, here we assume a batch of size 1).\n",
        "    stop_condition = False\n",
        "    decoded_sentence = '<start>'\n",
        "    \n",
        "    while not stop_condition:\n",
        "        output_tokens, h, c, attention_w, attention_c = decoder_model.predict([target_seq] + [enc_output, enc_h, enc_c ])\n",
        "        #print(attention_w.shape)\n",
        "        # Sample a token\n",
        "        sampled_token_index = np.argmax(output_tokens[0, -1, :])\n",
        "\n",
        "        if sampled_token_index == 0:\n",
        "          break\n",
        "        else:\n",
        "            # convert max index number to spanish word\n",
        "            sampled_char = target_index_word[sampled_token_index]\n",
        "\n",
        "        if (sampled_char!='<end>'):\n",
        "            # aapend it ti decoded sent\n",
        "            decoded_sentence += ' '+sampled_char\n",
        "            attention_weights = np.append(attention_weights,[attention_w.reshape(-1,)],axis=0)\n",
        "        \n",
        "        # Exit condition: either hit max length or find stop token.\n",
        "        if (sampled_char == '<end>' or len(decoded_sentence.split()) >= max_source_len):\n",
        "            attention_weights = np.append(attention_weights,[attention_w.reshape(-1,)],axis=0)\n",
        "            decoded_sentence += ' '+'<end>'\n",
        "            stop_condition = True\n",
        "        \n",
        "        # Update the target sequence (of length 1).\n",
        "        target_seq = np.zeros((1,1))\n",
        "        target_seq[0, 0] = sampled_token_index\n",
        "        \n",
        "        # Update states\n",
        "        enc_h, enc_c = h, c\n",
        "    \n",
        "    return decoded_sentence, attention_weights"
      ],
      "execution_count": null,
      "outputs": []
    },
    {
      "cell_type": "code",
      "metadata": {
        "id": "Y-muhgJkDT4J"
      },
      "source": [
        "def preprocess_sentence(sentence):\n",
        "    \n",
        "    num_digits= str.maketrans('','', digits)\n",
        "    sentence= sentence.lower()\n",
        "    sentence= re.sub(\" +\", \" \", sentence)\n",
        "    sentence= re.sub(\" \", \" \", sentence)\n",
        "    #sentence= re.sub(\"'\", '', sentence)\n",
        "    sentence= sentence.translate(num_digits)\n",
        "    #sentence= re.sub(r\"([?.!,¿])\", r\" \\1 \", sentence)\n",
        "    sentence = sentence.rstrip().strip()\n",
        "    sentence=  '<start> ' + sentence + '\\t<end> '\n",
        "    sentence = \" \".join(sentence.split())\n",
        "    return sentence"
      ],
      "execution_count": null,
      "outputs": []
    },
    {
      "cell_type": "code",
      "metadata": {
        "id": "-xccLSHQDT9t"
      },
      "source": [
        "def plot_attention(attention, sentence, predicted_sentence):\n",
        "    fig = plt.figure(figsize=(10,10))\n",
        "    ax= fig.add_subplot(1,1,1)\n",
        "    ax.matshow(attention)\n",
        "    fontdict={'fontsize':10}\n",
        "    \n",
        "    ax.set_xticklabels([''] + sentence, fontdict=fontdict, rotation=90)\n",
        "    ax.set_yticklabels([''] + predicted_sentence[1::], fontdict=fontdict)\n",
        "    ax.xaxis.set_major_locator(ticker.MultipleLocator(1))\n",
        "    ax.yaxis.set_major_locator(ticker.MultipleLocator(1))\n",
        "    plt.show()"
      ],
      "execution_count": null,
      "outputs": []
    },
    {
      "cell_type": "code",
      "metadata": {
        "id": "sH4zswIdE8Qb"
      },
      "source": [
        "def translate(sentence):\n",
        "  sentence = preprocess_sentence(sentence)\n",
        "  \n",
        "  #convert the sentence to index based on word2index dictionary\n",
        "  inputs= [source_word_index[i] for i in sentence.split(' ')]\n",
        "  # pad the sequence \n",
        "  inputs = tf.keras.preprocessing.sequence.pad_sequences([inputs], maxlen=max_source_len, padding='post')\n",
        "\n",
        "  #conver to tensors\n",
        "  inputs = tf.convert_to_tensor(inputs)\n",
        "  trad, attention =get_predicted_sentence(inputs)\n",
        "  print('Input : %s' % (sentence))\n",
        "  print('predicted sentence :{}'.format(trad))\n",
        "\n",
        "  #attention_plot = np.zeros((max_target_len, max_source_len))\n",
        "  \n",
        "  attention_plot= attention[:len(trad.split(' ')), :len(sentence.split(' '))]\n",
        "  plot_attention(attention_plot, sentence.split(' '), trad.split(' '))\n",
        "\n",
        "  return(sentence,trad,attention,inputs )\n"
      ],
      "execution_count": null,
      "outputs": []
    },
    {
      "cell_type": "code",
      "metadata": {
        "colab": {
          "base_uri": "https://localhost:8080/",
          "height": 535
        },
        "id": "giqtSfakE8S9",
        "outputId": "f89caec1-68b8-430f-9b7a-000faf17a4cd"
      },
      "source": [
        "sentence,trad,attention, inputs_ =translate(\"Hola mundo.\")"
      ],
      "execution_count": null,
      "outputs": [
        {
          "output_type": "stream",
          "name": "stdout",
          "text": [
            "Input : <start> hola mundo. <end>\n",
            "predicted sentence :<start> hi, guys. <end>\n"
          ]
        },
        {
          "output_type": "display_data",
          "data": {
            "image/png": "[encoded data removed]",
            "text/plain": [
              "<Figure size 720x720 with 1 Axes>"
            ]
          },
          "metadata": {
            "needs_background": "light"
          }
        }
      ]
    },
    {
      "cell_type": "code",
      "metadata": {
        "colab": {
          "base_uri": "https://localhost:8080/",
          "height": 608
        },
        "id": "uThlY0mvE8XR",
        "outputId": "4a321bfa-0792-4114-c2c7-cbcc78c42052"
      },
      "source": [
        "sentence,trad,attention, inputs_ =translate(\"Somos los martillos y las ruedas.\")"
      ],
      "execution_count": null,
      "outputs": [
        {
          "output_type": "stream",
          "name": "stdout",
          "text": [
            "Input : <start> somos los martillos y las ruedas <end>\n",
            "predicted sentence :<start> we're the subject and the guys. <end>\n"
          ]
        },
        {
          "output_type": "display_data",
          "data": {
            "image/png": "[encoded data removed]",
            "text/plain": [
              "<Figure size 720x720 with 1 Axes>"
            ]
          },
          "metadata": {
            "needs_background": "light"
          }
        }
      ]
    },
    {
      "cell_type": "code",
      "metadata": {
        "colab": {
          "base_uri": "https://localhost:8080/",
          "height": 660
        },
        "id": "LOB4VVq9DUBV",
        "outputId": "02387987-9ae9-4986-98c9-9172d0679c29"
      },
      "source": [
        "sentence,trad,attention, inputs_ =translate(\"Hoy viernes me di cuenta que la noche no es tan larga.\")"
      ],
      "execution_count": null,
      "outputs": [
        {
          "output_type": "stream",
          "name": "stdout",
          "text": [
            "Input : <start> hoy viernes me di cuenta que la noche no es tan larga. <end>\n",
            "predicted sentence :<start> today i was today when i isn't so long in the long time. <end>\n"
          ]
        },
        {
          "output_type": "display_data",
          "data": {
            "image/png": "[encoded data removed]",
            "text/plain": [
              "<Figure size 720x720 with 1 Axes>"
            ]
          },
          "metadata": {
            "needs_background": "light"
          }
        }
      ]
    },
    {
      "cell_type": "markdown",
      "metadata": {
        "id": "CXUKCMg0xGHZ"
      },
      "source": [
        "En este caso dimos tres ejemplos, en ellos sobservamos que los resultados no fueron tan malos, en algunos de ellos cambiaron varias palabras por otras que se pueden considerar como equivocadas. "
      ]
    },
    {
      "cell_type": "markdown",
      "metadata": {
        "id": "AsPWyQUrgC0l"
      },
      "source": [
        "e) El modelo NMT que usaste utiliza una capa de atención basado en Bahdanau et. al., (2015), pero otras opciones son las llamadas \"Atención Global\" y \"Atención Local\" propuesta por Luong et. al., (2015). Describe brevemente las diferencias entre éstos enfoques de atención, y cuál crees que es mejor para la tarea de traducción automática.\n",
        "\n",
        "OPCIONAL: incluye los modelos de atención de Luong y verifica su desempeño en tu modelo NMT."
      ]
    },
    {
      "cell_type": "markdown",
      "metadata": {
        "id": "Dt-47er6yCCG"
      },
      "source": [
        "##### Atención Global\n",
        "\n",
        "La atención global es considerar todos los estados ocultos de codificador al derivar ek vector de contexto $c_t$, en este modelo, un vector llamado de longitud variables, cuyo tamaño es igual al número de pasos de tiempo en el lado de la fuente, se deriva comprando el estado oculto de destino actual $h_t$ con cada estado oculto de origen. En cada pas de tiempo  $t$, el modelo infiere un vector de peso de alineación de longitud variable $a_t$ basado en el estado actual $h_t$ y todos los estados fuente.\n",
        "\n",
        "##### Atención Local\n",
        "\n",
        "La atención local surgio como una alternativa para atender algunas deficiencias de la atención global. En ella se tiene que prestar atención a todas las palabras en el lado del corpus fuente para cada palabra de destino, pero es poco practico y efectivo traducir sentencias más largas como párrafos o documentos. Por lo que se propusó un mecanismo de tención local que elige centrarse sólo en un pequeño subconjunto de las posisiciones de origen por palabra de destino."
      ]
    },
    {
      "cell_type": "markdown",
      "metadata": {
        "id": "EJp9kHhLgC0l"
      },
      "source": [
        "### f) OPCIONAL. Un problema en particular con el inglés, son las contracciones. Por ejemplo, en el modelo que yo entrené tengo éstos resultados.\n",
        "\n",
        "Texto:  `<start> i'm young and a good guy <end>`\n",
        "\n",
        "Traducción:  `<start> soy joven y un buen tipo. <end>`\n",
        "\n",
        "Texto:  `<start> i am young and a good guy <end>`\n",
        "\n",
        "Traducción:  `<start> soy joven como un buen tipo. <end>`\n",
        "\n",
        "Una forma de resolverlo es incluir ambos tipos de versiones (contracción y completa) relacionadas con su respectiva traducción en el corpus de entrenamiento. Hay varias formas de hacerlo. Por ejemplo, en el código que se muestra en la siguiente celda se hace realiza la expansión el texto basado en un diccionario de contracciones de inglés (contraction_expansion.txt). Implementa ésta idea para aumentar el corpus de entrenamiento y verifica si el desempeño del traductor  mejora."
      ]
    },
    {
      "cell_type": "code",
      "metadata": {
        "id": "sWYkr2g0gC0m",
        "colab": {
          "base_uri": "https://localhost:8080/",
          "height": 130
        },
        "outputId": "229ed9f1-5d86-4da1-cb25-1c0b43c7623e"
      },
      "source": [
        "with open(\"contraction_expansion.txt\", 'rb') as fp:\n",
        "    contractions= pickle.load(fp)\n",
        "\n",
        "def expand_eng_text(text):\n",
        "    if type(text) is str:\n",
        "        for key in contractions:\n",
        "            value = contractions[key]\n",
        "            text = text.replace(key, value)\n",
        "        return text\n",
        "    else:\n",
        "        return text\n",
        "\n",
        "# ejemplo:\n",
        "txt = \"i'm don't he'll you'll\"\n",
        "print(expand_contras(txt))\n",
        ">> 'i am do not he will you will'"
      ],
      "execution_count": null,
      "outputs": [
        {
          "output_type": "error",
          "ename": "SyntaxError",
          "evalue": "ignored",
          "traceback": [
            "\u001b[0;36m  File \u001b[0;32m\"<ipython-input-59-3dea09912257>\"\u001b[0;36m, line \u001b[0;32m16\u001b[0m\n\u001b[0;31m    >> 'i am do not he will you will'\u001b[0m\n\u001b[0m     ^\u001b[0m\n\u001b[0;31mSyntaxError\u001b[0m\u001b[0;31m:\u001b[0m invalid syntax\n"
          ]
        }
      ]
    },
    {
      "cell_type": "code",
      "metadata": {
        "id": "E_fxkBkVgC0m"
      },
      "source": [
        "# TU CÓDIGO AQUI"
      ],
      "execution_count": null,
      "outputs": []
    }
  ]
}